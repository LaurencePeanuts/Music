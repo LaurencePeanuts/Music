{
 "metadata": {
  "name": "",
  "signature": "sha256:9962f407763e935ec0bff39a992318dfb2232367d803bbb8d758c6621df35733"
 },
 "nbformat": 3,
 "nbformat_minor": 0,
 "worksheets": [
  {
   "cells": [
    {
     "cell_type": "markdown",
     "metadata": {},
     "source": [
      "# The Music of the Sphere: Exploring a Simple Universe in a Box\n",
      "\n",
      "How much information does the CMB temperature map, on the surface of last scattering at z=1100, provide on the potential throughout the volume?"
     ]
    },
    {
     "cell_type": "code",
     "collapsed": false,
     "input": [
      "import beatbox\n",
      "\n",
      "universe = beatbox.Universe()\n",
      "print(universe)"
     ],
     "language": "python",
     "metadata": {},
     "outputs": [
      {
       "output_type": "stream",
       "stream": "stdout",
       "text": [
        "a model universe, containing potential map phi\n"
       ]
      }
     ],
     "prompt_number": 1
    },
    {
     "cell_type": "code",
     "collapsed": false,
     "input": [],
     "language": "python",
     "metadata": {},
     "outputs": []
    }
   ],
   "metadata": {}
  }
 ]
}