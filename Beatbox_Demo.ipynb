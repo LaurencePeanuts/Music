{
 "metadata": {
  "name": "",
  "signature": "sha256:6cadb6a41dd9b8337a2e1f9f82709f1744f0cc626d01f2285537b1e6d483ae99"
 },
 "nbformat": 3,
 "nbformat_minor": 0,
 "worksheets": [
  {
   "cells": [
    {
     "cell_type": "markdown",
     "metadata": {},
     "source": [
      "# The Music of the Sphere: Exploring a Simple Universe in a Box\n",
      "\n",
      "How much information does the CMB temperature map, on the surface of last scattering at z=1100, provide on the potential throughout the volume?"
     ]
    },
    {
     "cell_type": "code",
     "collapsed": false,
     "input": [
      "%matplotlib inline\n",
      "from beatbox import universe"
     ],
     "language": "python",
     "metadata": {},
     "outputs": [],
     "prompt_number": 1
    },
    {
     "cell_type": "heading",
     "level": 3,
     "metadata": {},
     "source": [
      "Generate fake CMB data on a Healpix sphere."
     ]
    },
    {
     "cell_type": "code",
     "collapsed": false,
     "input": [
      "reload(universe)\n",
      "f = universe.FakeHealpixData()\n",
      "#f.show()"
     ],
     "language": "python",
     "metadata": {},
     "outputs": [
      {
       "output_type": "stream",
       "stream": "stderr",
       "text": [
        "beatbox/universe.py:135: RuntimeWarning: covariance is not positive-semidefinite.\n",
        "  self.data += multivariate_normal(np.zeros(self.n_pix), cov)\n"
       ]
      }
     ],
     "prompt_number": 2
    },
    {
     "cell_type": "heading",
     "level": 3,
     "metadata": {},
     "source": [
      "Define a 2d slice through our universe."
     ]
    },
    {
     "cell_type": "code",
     "collapsed": false,
     "input": [
      "s = universe.SliceSurface()"
     ],
     "language": "python",
     "metadata": {},
     "outputs": [],
     "prompt_number": 3
    },
    {
     "cell_type": "heading",
     "level": 3,
     "metadata": {},
     "source": [
      "Infer the minimum variance $\\phi$ field on this 2d slice."
     ]
    },
    {
     "cell_type": "code",
     "collapsed": false,
     "input": [
      "inf = universe.Inference(f, s)\n",
      "inf.calculate_mv_phi()\n",
      "#inf.view_phi_mv_slice()"
     ],
     "language": "python",
     "metadata": {},
     "outputs": [],
     "prompt_number": 4
    },
    {
     "cell_type": "code",
     "collapsed": false,
     "input": [],
     "language": "python",
     "metadata": {},
     "outputs": []
    }
   ],
   "metadata": {}
  }
 ]
}