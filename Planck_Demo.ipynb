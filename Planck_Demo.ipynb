{
 "cells": [
  {
   "cell_type": "markdown",
   "metadata": {},
   "source": [
    "# The Music of the Sphere: The Planck CMB Temperature Map, and its Spherical Harmonic Decomposition\n",
    "\n",
    "*Phil Marshall and Hans-Christian Eriksen, August 2015*\n",
    "\n",
    "In this notebook we download the Commander Planck CMB map, visualize it, decompose it into Spherical Harmonics, and look at the first few components."
   ]
  },
  {
   "cell_type": "code",
   "execution_count": 2,
   "metadata": {
    "collapsed": false
   },
   "outputs": [],
   "source": [
    "%matplotlib inline\n",
    "from beatbox import universe\n",
    "import healpy as hp"
   ]
  },
  {
   "cell_type": "markdown",
   "metadata": {},
   "source": [
    "## 1. The Planck CMB Temperature Map\n",
    "\n",
    "The 2015 Planck CMB and astrophysical component maps are described on the [project wiki, here](http://wiki.cosmos.esa.int/planckpla/index.php/CMB_and_astrophysical_component_maps). We use the [\"COMMANDER-Ruler\"](http://wiki.cosmos.esa.int/planckpla/index.php/CMB_and_astrophysical_component_maps#COMMANDER-Ruler) low resolution map, and its associated mask. This map contains the pixel values at the peak of the posterior PDF. Later, we will investigate samples drawn from this distribution: these capture the uncertainty in the Planck low resolution CMB temperature map. The FITS file containing this map is 37Mb in size, so might take a few minutes to download."
   ]
  },
  {
   "cell_type": "code",
   "execution_count": 3,
   "metadata": {
    "collapsed": false
   },
   "outputs": [
    {
     "name": "stdout",
     "output_type": "stream",
     "text": [
      "--2015-08-23 14:22:47--  http://pla.esac.esa.int/pla/aio/product-action?MAP.MAP_ID=COM_CompMap_CMB-commrul_0256_R1.00.fits\n",
      "Resolving pla.esac.esa.int... 193.147.153.170\n",
      "Connecting to pla.esac.esa.int|193.147.153.170|:80... connected.\n",
      "HTTP request sent, awaiting response... 200 OK\n",
      "Length: unspecified [image/fits]\n",
      "Saving to: 'COM_CompMap_CMB-commrul_0256_R1.00.fits'\n",
      "\n",
      "COM_CompMap_CMB-com     [                <=>   ]  36.78M   859KB/s   in 54s    \n",
      "\n",
      "2015-08-23 14:23:45 (697 KB/s) - 'COM_CompMap_CMB-commrul_0256_R1.00.fits' saved [38566080]\n",
      "\n"
     ]
    }
   ],
   "source": [
    "Tmapfile = \"COM_CompMap_CMB-commrul_0256_R1.00.fits\"\n",
    "URL = \"http://pla.esac.esa.int/pla/aio/product-action?MAP.MAP_ID=\"+Tmapfile\n",
    "!wget -O \"$Tmapfile\" \"$URL\""
   ]
  },
  {
   "cell_type": "code",
   "execution_count": null,
   "metadata": {
    "collapsed": true
   },
   "outputs": [],
   "source": []
  }
 ],
 "metadata": {
  "kernelspec": {
   "display_name": "Python 2",
   "language": "python",
   "name": "python2"
  },
  "language_info": {
   "codemirror_mode": {
    "name": "ipython",
    "version": 2
   },
   "file_extension": ".py",
   "mimetype": "text/x-python",
   "name": "python",
   "nbconvert_exporter": "python",
   "pygments_lexer": "ipython2",
   "version": "2.7.10"
  }
 },
 "nbformat": 4,
 "nbformat_minor": 0
}
