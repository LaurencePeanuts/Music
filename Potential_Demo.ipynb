{
 "cells": [
  {
   "cell_type": "markdown",
   "metadata": {},
   "source": [
    "# The Music of the Sphere: Fourier Series Representation of the Horizon-scale Potential\n",
    "\n",
    "*Phil Marshall, Laurence Perrault Levasseur and Roger Blandford, August-October 2015*\n",
    "\n",
    "In this notebook we look at some simulated potential fields, and predict the CMB temperature map from them."
   ]
  },
  {
   "cell_type": "code",
   "execution_count": 1,
   "metadata": {
    "collapsed": false
   },
   "outputs": [],
   "source": [
    "%load_ext autoreload\n",
    "%autoreload 2"
   ]
  },
  {
   "cell_type": "code",
   "execution_count": 2,
   "metadata": {
    "collapsed": false
   },
   "outputs": [
    {
     "name": "stderr",
     "output_type": "stream",
     "text": [
      "/Users/Peanuts/miniconda/lib/python2.7/site-packages/IPython/kernel/__init__.py:13: ShimWarning: The `IPython.kernel` package has been deprecated. You should import from ipykernel or jupyter_client instead.\n",
      "  \"You should import from ipykernel or jupyter_client instead.\", ShimWarning)\n"
     ]
    }
   ],
   "source": [
    "%matplotlib inline\n",
    "import healpy as hp\n",
    "import numpy as np\n",
    "import beatbox"
   ]
  },
  {
   "cell_type": "markdown",
   "metadata": {},
   "source": [
    "## 1. Generating and Visualizing a 3D Potential\n",
    "\n",
    "Our plan is to use a simple Fourier series, with terms lying within some sphere in k-space, to represent the potential on horizon scales. Let's instantiate such a \"beatbox\" universe and generate a Gaussian random potential field in it, using a simple inflation model to generate a power spectrum and then populate the covariance matrix."
   ]
  },
  {
   "cell_type": "code",
   "execution_count": 24,
   "metadata": {
    "collapsed": false
   },
   "outputs": [
    {
     "name": "stdout",
     "output_type": "stream",
     "text": [
      "Generated  246  potential Fourier coefficients\n",
      " Built potential grid, with dimensions  (41,)  and mean value  0.0 +/- 0.0022\n"
     ]
    }
   ],
   "source": [
    "We = beatbox.Universe()\n",
    "We.generate_a_random_potential_field(high_k_cutoff=6, low_k_cutoff=2, n_s=0.96, kstar=0.02, PSnorm=2.43e-9)"
   ]
  },
  {
   "cell_type": "markdown",
   "metadata": {
    "collapsed": false
   },
   "source": [
    "Now, let's visualize the 3D potential field, with `yt`. We're trying to make a plot like [this one](http://yt-project.org/doc/_images/vr_sample.jpg), as shown in the [volume rendering tutorial](http://yt-project.org/doc/visualizing/volume_rendering.html). [This `gist` (from Sam Skillman)](https://gist.github.com/samskillman/0e574d1a4f67d3a3b1b1) uses a development version of `yt` to do the rendering, but does show how to use `yt` data structures."
   ]
  },
  {
   "cell_type": "code",
   "execution_count": 4,
   "metadata": {
    "collapsed": false
   },
   "outputs": [],
   "source": [
    "# !pip install --upgrade Cython\n",
    "# !pip install --upgrade yt"
   ]
  },
  {
   "cell_type": "code",
   "execution_count": 6,
   "metadata": {
    "collapsed": true
   },
   "outputs": [],
   "source": [
    "import yt \n",
    "\n",
    "# yt.visualization.color_maps.show_colormaps()"
   ]
  },
  {
   "cell_type": "code",
   "execution_count": 7,
   "metadata": {
    "collapsed": false,
    "scrolled": false
   },
   "outputs": [
    {
     "name": "stderr",
     "output_type": "stream",
     "text": [
      "yt : [INFO     ] 2015-11-16 23:28:34,401 Parameters: current_time              = 0.0\n",
      "yt : [INFO     ] 2015-11-16 23:28:34,402 Parameters: domain_dimensions         = [41 41 41]\n",
      "yt : [INFO     ] 2015-11-16 23:28:34,404 Parameters: domain_left_edge          = [ 0.  0.  0.]\n",
      "yt : [INFO     ] 2015-11-16 23:28:34,405 Parameters: domain_right_edge         = [ 1.  1.  1.]\n",
      "yt : [INFO     ] 2015-11-16 23:28:34,406 Parameters: cosmological_simulation   = 0.0\n",
      "yt : [INFO     ] 2015-11-16 23:28:34,611 Loading field plugins.\n",
      "yt : [INFO     ] 2015-11-16 23:28:34,612 Loaded angular_momentum (8 new fields)\n",
      "yt : [INFO     ] 2015-11-16 23:28:34,612 Loaded astro (15 new fields)\n",
      "yt : [INFO     ] 2015-11-16 23:28:34,613 Loaded cosmology (22 new fields)\n",
      "yt : [INFO     ] 2015-11-16 23:28:34,615 Loaded fluid (64 new fields)\n",
      "yt : [INFO     ] 2015-11-16 23:28:34,616 Loaded fluid_vector (96 new fields)\n",
      "yt : [INFO     ] 2015-11-16 23:28:34,617 Loaded geometric (112 new fields)\n",
      "yt : [INFO     ] 2015-11-16 23:28:34,618 Loaded local (112 new fields)\n",
      "yt : [INFO     ] 2015-11-16 23:28:34,619 Loaded magnetic_field (120 new fields)\n",
      "yt : [INFO     ] 2015-11-16 23:28:34,620 Loaded my_plugins (120 new fields)\n",
      "yt : [INFO     ] 2015-11-16 23:28:34,621 Loaded species (122 new fields)\n",
      "yt : [INFO     ] 2015-11-16 23:28:34,809 Warning: no_ghost is currently True (default). This may lead to artifacts at grid boundaries.\n",
      "/Users/Peanuts/miniconda/lib/python2.7/site-packages/yt/visualization/volume_rendering/transfer_functions.py:641: RuntimeWarning: invalid value encountered in double_scalars\n",
      "  rel = (v - self.x_bounds[0])/(self.x_bounds[1] - self.x_bounds[0])\n",
      "/Users/Peanuts/miniconda/lib/python2.7/site-packages/yt/visualization/volume_rendering/transfer_functions.py:84: RuntimeWarning: invalid value encountered in divide\n",
      "  vals = height * np.exp(-(self.x - location)**2.0/width)\n",
      "/Users/Peanuts/miniconda/lib/python2.7/site-packages/yt/utilities/amr_kdtree/amr_kdtree.py:272: RuntimeWarning: divide by zero encountered in log10\n",
      "  if self.log_fields[i]: vcd = np.log10(vcd)\n",
      "/Users/Peanuts/miniconda/lib/python2.7/site-packages/yt/units/yt_array.py:800: RuntimeWarning: divide by zero encountered in divide\n",
      "  return YTArray(super(YTArray, self).__rdiv__(lo))\n",
      "/Users/Peanuts/miniconda/lib/python2.7/site-packages/yt/data_objects/image_array.py:229: RuntimeWarning: invalid value encountered in multiply\n",
      "  np.multiply(self[:, :, :3], 1.0/cmax, out[:, :, :3])\n",
      "/Users/Peanuts/miniconda/lib/python2.7/site-packages/yt/units/yt_array.py:984: RuntimeWarning: invalid value encountered in greater\n",
      "  return np.array(self).__gt__(np.array(other))\n",
      "/Users/Peanuts/miniconda/lib/python2.7/site-packages/numpy/core/_methods.py:59: RuntimeWarning: Mean of empty slice.\n",
      "  warnings.warn(\"Mean of empty slice.\", RuntimeWarning)\n",
      "/Users/Peanuts/miniconda/lib/python2.7/site-packages/numpy/core/_methods.py:68: RuntimeWarning: invalid value encountered in true_divide\n",
      "  ret, rcount, out=ret, casting='unsafe', subok=False)\n",
      "/Users/Peanuts/miniconda/lib/python2.7/site-packages/numpy/core/_methods.py:82: RuntimeWarning: Degrees of freedom <= 0 for slice\n",
      "  warnings.warn(\"Degrees of freedom <= 0 for slice\", RuntimeWarning)\n",
      "/Users/Peanuts/miniconda/lib/python2.7/site-packages/numpy/core/_methods.py:94: RuntimeWarning: invalid value encountered in true_divide\n",
      "  arrmean, rcount, out=arrmean, casting='unsafe', subok=False)\n",
      "/Users/Peanuts/miniconda/lib/python2.7/site-packages/numpy/core/_methods.py:114: RuntimeWarning: invalid value encountered in true_divide\n",
      "  ret, rcount, out=ret, casting='unsafe', subok=False)\n"
     ]
    },
    {
     "data": {
      "image/png": "[encoded data removed]",
      "text/plain": [
       "<IPython.core.display.Image object>"
      ]
     },
     "execution_count": 7,
     "metadata": {
      "image/png": {
       "width": 400
      }
     },
     "output_type": "execute_result"
    }
   ],
   "source": [
    "We.show_potential_with_yt(output='test.png',angle=1.0)\n",
    "\n",
    "from IPython.display import Image\n",
    "Image('test.png',width=400)"
   ]
  },
  {
   "cell_type": "markdown",
   "metadata": {},
   "source": [
    "Only one layer (isopotential) seems to be visualized... The code that makes this plot is here:"
   ]
  },
  {
   "cell_type": "code",
   "execution_count": 7,
   "metadata": {
    "collapsed": false
   },
   "outputs": [],
   "source": [
    "# %load -n We.show_potential_with_yt\n",
    "# %load universe.py"
   ]
  },
  {
   "cell_type": "markdown",
   "metadata": {},
   "source": [
    "We can also make a movie to show multiple angles - but the resulting animated gif is large (1.6Mb) so we'll skip this step."
   ]
  },
  {
   "cell_type": "code",
   "execution_count": 8,
   "metadata": {
    "collapsed": false
   },
   "outputs": [],
   "source": [
    "# !pip install --upgrade images2gif\n",
    "# !pip install --upgrade PIL"
   ]
  },
  {
   "cell_type": "code",
   "execution_count": 11,
   "metadata": {
    "collapsed": false,
    "scrolled": true
   },
   "outputs": [],
   "source": [
    "# We.show_potential_from_all_angles_with_yt(output='phi.gif')"
   ]
  },
  {
   "cell_type": "code",
   "execution_count": 12,
   "metadata": {
    "collapsed": false
   },
   "outputs": [],
   "source": [
    "# Image(url='phi.gif',width=300)"
   ]
  },
  {
   "cell_type": "markdown",
   "metadata": {},
   "source": [
    "## 2. Predicting the CMB Temperature Map\n",
    "\n",
    "When we get to doing the inverse problem, we'll be sampling from the posterior PDF for the potential coefficients $f_n$, and will need to check that these models are indeed plausible. The first model check we will do will be visual, and will involve making mock CMB temperature maps for our model potentials (see [issue 8](https://github.com/rogerblandford/Music/issues/8))."
   ]
  },
  {
   "cell_type": "markdown",
   "metadata": {
    "collapsed": true
   },
   "source": [
    "So, let's convert the Fourier coefficients `fn` into `alm`'s, using the appropriate response matrix:"
   ]
  },
  {
   "cell_type": "code",
   "execution_count": null,
   "metadata": {
    "collapsed": false
   },
   "outputs": [],
   "source": [
    "# We.transform_3D_potential_fourier_series_into_T_spherical_harmonics(lmax=3)\n",
    "# We.show_CMB_T_map(from_perspective_of=\"observer\")"
   ]
  }
 ],
 "metadata": {
  "kernelspec": {
   "display_name": "Python 2",
   "language": "python",
   "name": "python2"
  },
  "language_info": {
   "codemirror_mode": {
    "name": "ipython",
    "version": 2
   },
   "file_extension": ".py",
   "mimetype": "text/x-python",
   "name": "python",
   "nbconvert_exporter": "python",
   "pygments_lexer": "ipython2",
   "version": "2.7.10"
  }
 },
 "nbformat": 4,
 "nbformat_minor": 0
}
