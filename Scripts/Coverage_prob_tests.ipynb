{
 "cells": [
  {
   "cell_type": "code",
   "execution_count": 1,
   "metadata": {
    "collapsed": false
   },
   "outputs": [
    {
     "name": "stdout",
     "output_type": "stream",
     "text": [
      "1\n"
     ]
    }
   ],
   "source": [
    "%load_ext autoreload\n",
    "%matplotlib inline\n",
    "execfile (\"_ImportScript.py\")\n",
    "import time\n"
   ]
  },
  {
   "cell_type": "code",
   "execution_count": 2,
   "metadata": {
    "collapsed": false
   },
   "outputs": [],
   "source": [
    "import matplotlib.pyplot as plt"
   ]
  },
  {
   "cell_type": "code",
   "execution_count": 3,
   "metadata": {
    "collapsed": false
   },
   "outputs": [],
   "source": [
    "beatbox.You.create_original_Universe()"
   ]
  },
  {
   "cell_type": "code",
   "execution_count": 4,
   "metadata": {
    "collapsed": false,
    "scrolled": true
   },
   "outputs": [
    {
     "name": "stdout",
     "output_type": "stream",
     "text": [
      "Generated  32  potential Fourier coefficients\n",
      " with phases uniformly distributed between 0 and  6.28318530718\n",
      "printing for Yashar\n",
      "32\n",
      "(32,)\n",
      "Generated  32  potential Fourier coefficients\n",
      " with phases uniformly distributed between 0 and  6.28318530718\n",
      "printing for Yashar\n",
      "32\n",
      "(32,)\n"
     ]
    },
    {
     "name": "stderr",
     "output_type": "stream",
     "text": [
      "/Users/LaurencePeanuts/Documents/Travail/Stanford/Music/Music/beatbox/universe.py:597: RuntimeWarning: divide by zero encountered in power\n",
      "  self.Power_Spectrum = self.PSnorm*10000*np.power((self.k/self.kstar) ,(-3+(self.n_s-1)))\n"
     ]
    }
   ],
   "source": [
    "numreal = 2\n",
    "\n",
    "for i in range(numreal):\n",
    "    beatbox.You.initiate_simulated_universe()\n"
   ]
  },
  {
   "cell_type": "code",
   "execution_count": 6,
   "metadata": {
    "collapsed": false
   },
   "outputs": [],
   "source": [
    "We = beatbox.Universe()"
   ]
  },
  {
   "cell_type": "code",
   "execution_count": 7,
   "metadata": {
    "collapsed": false
   },
   "outputs": [
    {
     "data": {
      "text/plain": [
       "256"
      ]
     },
     "execution_count": 7,
     "metadata": {},
     "output_type": "execute_result"
    }
   ],
   "source": [
    "We.get_numfn()"
   ]
  },
  {
   "cell_type": "code",
   "execution_count": 8,
   "metadata": {
    "collapsed": false
   },
   "outputs": [
    {
     "data": {
      "text/plain": [
       "256"
      ]
     },
     "execution_count": 8,
     "metadata": {},
     "output_type": "execute_result"
    }
   ],
   "source": [
    "beatbox.Universe.numfn"
   ]
  },
  {
   "cell_type": "code",
   "execution_count": 9,
   "metadata": {
    "collapsed": false
   },
   "outputs": [
    {
     "data": {
      "text/plain": [
       "256"
      ]
     },
     "execution_count": 9,
     "metadata": {},
     "output_type": "execute_result"
    }
   ],
   "source": [
    "beatbox.You.all_simulated_universes[0].get_numfn()"
   ]
  },
  {
   "cell_type": "code",
   "execution_count": null,
   "metadata": {
    "collapsed": false
   },
   "outputs": [],
   "source": []
  },
  {
   "cell_type": "code",
   "execution_count": null,
   "metadata": {
    "collapsed": false
   },
   "outputs": [],
   "source": []
  },
  {
   "cell_type": "code",
   "execution_count": 5,
   "metadata": {
    "collapsed": false
   },
   "outputs": [
    {
     "name": "stdout",
     "output_type": "stream",
     "text": [
      "0.00146484375\n",
      "total time is:\n",
      "0.0102219581604\n"
     ]
    },
    {
     "name": "stderr",
     "output_type": "stream",
     "text": [
      "/Users/LaurencePeanuts/Documents/Travail/Stanford/Music/Music/beatbox/universe.py:431: ComplexWarning: Casting complex values to real discards the imaginary part\n",
      "  ay_real[zero_ind] = value[zero_ind].astype(np.float)\n",
      "/Users/LaurencePeanuts/Documents/Travail/Stanford/Music/Music/beatbox/multiverse.py:493: ComplexWarning: Casting complex values to real discards the imaginary part\n",
      "  R_real[zero_ind,:] = beatbox.Universe.R[zero_ind,:].astype(np.float)\n",
      "/Users/LaurencePeanuts/Documents/Travail/Stanford/Music/Music/beatbox/multiverse.py:439: RuntimeWarning: divide by zero encountered in power\n",
      "  Power_Spectrum = PSnorm*10000*np.power((beatbox.Universe.k/kstar) ,(-3+(n_s-1)))\n"
     ]
    }
   ],
   "source": [
    "if not os.path.isfile('../data/covCyy_lmax%d_lmin%d.txt' % (beatbox.Multiverse.truncated_lmax, beatbox.Multiverse.truncated_lmin)):\n",
    "    beatbox.You.read_Planck_samples()\n",
    "    beatbox.You.calculate_covariance_matrix(filename='lmax%d_lmin%d' % (beatbox.Multiverse.truncated_lmax, beatbox.Multiverse.truncated_lmin))\n",
    "else:\n",
    "    beatbox.You.load_covariance_matrix(filename='covCyy_lmax%d_lmin%d.txt' % (beatbox.Multiverse.truncated_lmax, beatbox.Multiverse.truncated_lmin))\n",
    "    \n",
    "# Calculate the inverse of the a_y covariance matrix\n",
    "beatbox.You.calculate_sdv_Cyy_inverse()\n",
    "\n",
    "\n",
    "datamap = beatbox.You.all_simulated_universes[0].ay2ayreal_for_inference(beatbox.You.all_simulated_universes[0].ay)+beatbox.You.generate_one_realization_of_noise()\n",
    "beatbox.You.all_simulated_universes[-1].ay_real = datamap\n",
    " \n",
    "\n",
    "MOCK = 1\n",
    "beatbox.You.solve_for_3D_potential(datamap.T , A=None, print_alpha=0)"
   ]
  },
  {
   "cell_type": "code",
   "execution_count": 6,
   "metadata": {
    "collapsed": false
   },
   "outputs": [
    {
     "name": "stdout",
     "output_type": "stream",
     "text": [
      "0\n",
      "0.000494956970215\n",
      "time for loading is:\n",
      "0.000686883926392\n",
      "successfully loaded A from the disk.\n",
      "total time is:\n",
      "0.00133895874023\n",
      "1\n",
      "0.000473022460938\n",
      "time for loading is:\n",
      "0.00172400474548\n",
      "successfully loaded A from the disk.\n",
      "total time is:\n",
      "0.00247693061829\n",
      "[[ 1.27574057]\n",
      " [ 0.31619624]\n",
      " [ 0.80615585]\n",
      " [ 0.41651624]\n",
      " [ 1.33613307]\n",
      " [ 1.43068241]\n",
      " [ 0.40595421]\n",
      " [ 1.6157745 ]\n",
      " [ 1.23879915]\n",
      " [ 0.3251443 ]\n",
      " [ 1.45566874]\n",
      " [ 1.28384049]\n",
      " [ 1.42196292]\n",
      " [ 0.2689149 ]\n",
      " [ 0.4784604 ]\n",
      " [ 1.18797282]\n",
      " [ 1.34633202]\n",
      " [ 1.54793079]\n",
      " [ 0.90306908]\n",
      " [ 0.13780789]\n",
      " [ 1.1995996 ]\n",
      " [ 0.32704609]\n",
      " [ 0.04492701]\n",
      " [ 0.02733367]\n",
      " [ 0.38313015]\n",
      " [ 0.62849517]\n",
      " [ 0.31142525]\n",
      " [ 0.30846589]\n",
      " [ 0.0415502 ]\n",
      " [ 0.65749449]\n",
      " [ 0.13041487]\n",
      " [ 0.73123111]]\n"
     ]
    }
   ],
   "source": [
    "cov_frac = np.zeros((numreal,1))\n",
    "\n",
    "for i in range(numreal):\n",
    "    print i\n",
    "    noise_realization = beatbox.You.generate_one_realization_of_noise()\n",
    "    true_alms = beatbox.You.all_simulated_universes[i].ay2ayreal_for_inference(beatbox.You.all_simulated_universes[i].ay)\n",
    "    datamap =  true_alms + noise_realization\n",
    "    beatbox.You.solve_for_3D_potential(datamap.T , A=1, print_alpha=0)\n",
    "    \n",
    "    We=beatbox.Universe()        \n",
    "    beatbox.You.all_data_universes = np.append(beatbox.You.all_data_universes,We)\n",
    "    beatbox.You.all_data_universes[i].fn = beatbox.You.reconstrunct_fn\n",
    "    if i == 0:\n",
    "        ordered_inds_largenmax = beatbox.You.all_simulated_universes[i].get_ordered_fn_indices()\n",
    "        ordered_inds_smallnmax = beatbox.You.all_data_universes[i].get_ordered_fn_indices()\n",
    "    \n",
    "    true_fns = beatbox.You.all_simulated_universes[i].fn[ordered_inds_smallnmax].reshape(-1,1)\n",
    "    rec_fns = beatbox.You.all_data_universes[i].fn[ordered_inds_smallnmax].reshape(-1,1)\n",
    "    abs_diff = np.abs(true_fns - rec_fns)\n",
    "    err_sig = np.sqrt(np.diag(beatbox.You.inv_A)[ordered_inds_smallnmax])\n",
    "    diff_sigma = np.divide(abs_diff.reshape(-1,1) , err_sig.reshape(-1,1) ).reshape(-1,1)\n",
    "    cov_frac[i,0] = np.double(np.sum(diff_sigma<=1)) / np.double(len(diff_sigma))\n",
    "    #np.savetxt( \"/Users/yashar/GravIT/Cycle_4_analysis/data/noise_\" + str(\"%0.03d\" % i) + \".txt\", noise_realization)\n",
    "    #np.savetxt( \"/Users/yashar/GravIT/Cycle_4_analysis/data/true_alm_\" + str(\"%0.03d\" % i) + \".txt\", true_alms)\n",
    "    #np.savetxt( \"/Users/yashar/GravIT/Cycle_4_analysis/data/true_fn_\" + str(\"%0.03d\" % i) + \".txt\", true_fns )\n",
    "    #np.savetxt( \"/Users/yashar/GravIT/Cycle_4_analysis/data/rec_fn_\" + str(\"%0.03d\" % i) + \".txt\", rec_fns )\n",
    "    #np.savetxt( \"/Users/yashar/GravIT/Cycle_4_analysis/data/abs_diff_\" + str(\"%0.03d\" % i) + \".txt\", abs_diff)\n",
    "print diff_sigma"
   ]
  },
  {
   "cell_type": "code",
   "execution_count": 8,
   "metadata": {
    "collapsed": false
   },
   "outputs": [
    {
     "name": "stdout",
     "output_type": "stream",
     "text": [
      "(2, 1)\n"
     ]
    },
    {
     "data": {
      "text/plain": [
       "0.65625"
      ]
     },
     "execution_count": 8,
     "metadata": {},
     "output_type": "execute_result"
    }
   ],
   "source": [
    "print cov_frac.shape\n",
    "np.mean(cov_frac)\n",
    "# print cov_frac\n"
   ]
  },
  {
   "cell_type": "code",
   "execution_count": null,
   "metadata": {
    "collapsed": false
   },
   "outputs": [],
   "source": []
  },
  {
   "cell_type": "code",
   "execution_count": 7,
   "metadata": {
    "collapsed": false
   },
   "outputs": [
    {
     "data": {
      "text/plain": [
       "[<matplotlib.lines.Line2D at 0x1108aa610>]"
      ]
     },
     "execution_count": 7,
     "metadata": {},
     "output_type": "execute_result"
    },
    {
     "data": {
      "image/png": "[encoded data removed]",
      "text/plain": [
       "<matplotlib.figure.Figure at 0x103e3c550>"
      ]
     },
     "metadata": {},
     "output_type": "display_data"
    }
   ],
   "source": [
    "# Check calculated k covariance from samples, against prior covariance matrix\n",
    "numCp = np.zeros(len(beatbox.You.all_simulated_universes[0].fn))\n",
    "for j in range(len(beatbox.You.all_simulated_universes[0].fn)):\n",
    "    fns = [beatbox.You.all_simulated_universes[i].fn[j] for i in range(numreal)]\n",
    "    numCp[j] = np.std(fns) #1./(np.std(fns)**2)\n",
    "\n",
    "plt.semilogy(numCp[ordered_inds_smallnmax])\n",
    "plt.semilogy(1/np.sqrt(np.diag(beatbox.You.inv_Cf)[ordered_inds_smallnmax]),'--')"
   ]
  },
  {
   "cell_type": "code",
   "execution_count": null,
   "metadata": {
    "collapsed": false
   },
   "outputs": [],
   "source": []
  },
  {
   "cell_type": "code",
   "execution_count": 11,
   "metadata": {
    "collapsed": false
   },
   "outputs": [
    {
     "name": "stderr",
     "output_type": "stream",
     "text": [
      "/Users/LaurencePeanuts/miniconda2/lib/python2.7/site-packages/ipykernel/__main__.py:2: RuntimeWarning: invalid value encountered in sqrt\n",
      "  from ipykernel import kernelapp as app\n"
     ]
    },
    {
     "data": {
      "text/plain": [
       "[1, 34, -20, 20]"
      ]
     },
     "execution_count": 11,
     "metadata": {},
     "output_type": "execute_result"
    },
    {
     "data": {
      "image/png": "[encoded data removed]",
      "text/plain": [
       "<matplotlib.figure.Figure at 0x115559290>"
      ]
     },
     "metadata": {},
     "output_type": "display_data"
    }
   ],
   "source": [
    "plt.plot(beatbox.You.all_simulated_universes[0].fn[ordered_inds_smallnmax],' +')\n",
    "err_sig = np.sqrt(np.diag(beatbox.You.inv_A[ordered_inds_smallnmax]))\n",
    "beatbox.You.all_data_universes[0].fn.shape\n",
    "plt.errorbar(np.arange(0,len(beatbox.You.all_data_universes[0].fn[ordered_inds_smallnmax])).reshape(-1,1) , beatbox.You.all_data_universes[0].fn[ordered_inds_smallnmax].reshape(-1,1) , yerr = err_sig.reshape(-1,1))\n",
    "plt.axis([1 ,34, -20, 20])"
   ]
  },
  {
   "cell_type": "code",
   "execution_count": null,
   "metadata": {
    "collapsed": false
   },
   "outputs": [],
   "source": [
    "# test that the noise covariance matrix is correct\n",
    "datamap = np.zeros((numreal,24))\n",
    "\n",
    "for i in range(numreal):\n",
    "    datamap[i,:] = beatbox.You.generate_one_realization_of_noise()\n",
    "\n"
   ]
  },
  {
   "cell_type": "code",
   "execution_count": null,
   "metadata": {
    "collapsed": false
   },
   "outputs": [],
   "source": [
    "datamap.shape"
   ]
  },
  {
   "cell_type": "code",
   "execution_count": 12,
   "metadata": {
    "collapsed": false
   },
   "outputs": [
    {
     "name": "stderr",
     "output_type": "stream",
     "text": [
      "/Users/LaurencePeanuts/miniconda2/lib/python2.7/site-packages/ipykernel/__main__.py:2: RuntimeWarning: Degrees of freedom <= 0 for slice\n",
      "  from ipykernel import kernelapp as app\n",
      "/Users/LaurencePeanuts/miniconda2/lib/python2.7/site-packages/numpy/lib/function_base.py:2929: RuntimeWarning: divide by zero encountered in double_scalars\n",
      "  c *= 1. / np.float64(fact)\n",
      "/Users/LaurencePeanuts/miniconda2/lib/python2.7/site-packages/numpy/lib/function_base.py:2929: RuntimeWarning: invalid value encountered in multiply\n",
      "  c *= 1. / np.float64(fact)\n"
     ]
    },
    {
     "data": {
      "text/plain": [
       "<matplotlib.colorbar.Colorbar at 0x115a32990>"
      ]
     },
     "execution_count": 12,
     "metadata": {},
     "output_type": "execute_result"
    },
    {
     "data": {
      "image/png": "[encoded data removed]",
      "text/plain": [
       "<matplotlib.figure.Figure at 0x11520f250>"
      ]
     },
     "metadata": {},
     "output_type": "display_data"
    }
   ],
   "source": [
    "plt.subplot(1,2,1)\n",
    "plt.imshow(np.cov(datamap.T))\n",
    "plt.colorbar()\n",
    "\n",
    "plt.subplot(1,2,2)\n",
    "plt.imshow(np.linalg.inv(beatbox.You.inv_Cyy))\n",
    "plt.colorbar()"
   ]
  },
  {
   "cell_type": "code",
   "execution_count": null,
   "metadata": {
    "collapsed": false
   },
   "outputs": [],
   "source": []
  },
  {
   "cell_type": "code",
   "execution_count": null,
   "metadata": {
    "collapsed": true
   },
   "outputs": [],
   "source": []
  }
 ],
 "metadata": {
  "kernelspec": {
   "display_name": "Python 2",
   "language": "python",
   "name": "python2"
  },
  "language_info": {
   "codemirror_mode": {
    "name": "ipython",
    "version": 2
   },
   "file_extension": ".py",
   "mimetype": "text/x-python",
   "name": "python",
   "nbconvert_exporter": "python",
   "pygments_lexer": "ipython2",
   "version": "2.7.11"
  }
 },
 "nbformat": 4,
 "nbformat_minor": 0
}
