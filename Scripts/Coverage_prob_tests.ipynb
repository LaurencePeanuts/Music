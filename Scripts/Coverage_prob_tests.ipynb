{
 "cells": [
  {
   "cell_type": "code",
   "execution_count": 1,
   "metadata": {
    "collapsed": false
   },
   "outputs": [
    {
     "name": "stdout",
     "output_type": "stream",
     "text": [
      "1\n"
     ]
    }
   ],
   "source": [
    "%load_ext autoreload\n",
    "%matplotlib inline\n",
    "execfile (\"_ImportScript.py\")\n",
    "import time"
   ]
  },
  {
   "cell_type": "code",
   "execution_count": 2,
   "metadata": {
    "collapsed": false
   },
   "outputs": [],
   "source": [
    "import matplotlib.pyplot as plt"
   ]
  },
  {
   "cell_type": "code",
   "execution_count": 3,
   "metadata": {
    "collapsed": false
   },
   "outputs": [],
   "source": [
    "beatbox.You.create_original_Universe()"
   ]
  },
  {
   "cell_type": "code",
   "execution_count": 4,
   "metadata": {
    "collapsed": false,
    "scrolled": true
   },
   "outputs": [
    {
     "name": "stdout",
     "output_type": "stream",
     "text": [
      "Generated  14146  potential Fourier coefficients\n",
      " with phases uniformly distributed between 0 and  6.28318530718\n",
      "Generated  14146  potential Fourier coefficients\n",
      " with phases uniformly distributed between 0 and  6.28318530718\n",
      "Generated  14146  potential Fourier coefficients\n",
      " with phases uniformly distributed between 0 and  6.28318530718\n",
      "Generated  14146  potential Fourier coefficients\n",
      " with phases uniformly distributed between 0 and  6.28318530718\n",
      "Generated  14146  potential Fourier coefficients\n",
      " with phases uniformly distributed between 0 and  6.28318530718\n",
      "Generated  14146  potential Fourier coefficients\n",
      " with phases uniformly distributed between 0 and  6.28318530718\n",
      "Generated  14146  potential Fourier coefficients\n",
      " with phases uniformly distributed between 0 and  6.28318530718\n",
      "Generated  14146  potential Fourier coefficients\n",
      " with phases uniformly distributed between 0 and  6.28318530718\n",
      "Generated  14146  potential Fourier coefficients\n",
      " with phases uniformly distributed between 0 and  6.28318530718\n",
      "Generated  14146  potential Fourier coefficients\n",
      " with phases uniformly distributed between 0 and  6.28318530718\n",
      "Generated  14146  potential Fourier coefficients\n",
      " with phases uniformly distributed between 0 and  6.28318530718\n",
      "Generated  14146  potential Fourier coefficients\n",
      " with phases uniformly distributed between 0 and  6.28318530718\n",
      "Generated  14146  potential Fourier coefficients\n",
      " with phases uniformly distributed between 0 and  6.28318530718\n",
      "Generated  14146  potential Fourier coefficients\n",
      " with phases uniformly distributed between 0 and  6.28318530718\n",
      "Generated  14146  potential Fourier coefficients\n",
      " with phases uniformly distributed between 0 and  6.28318530718\n",
      "Generated  14146  potential Fourier coefficients\n",
      " with phases uniformly distributed between 0 and  6.28318530718\n",
      "Generated  14146  potential Fourier coefficients\n",
      " with phases uniformly distributed between 0 and  6.28318530718\n",
      "Generated  14146  potential Fourier coefficients\n",
      " with phases uniformly distributed between 0 and  6.28318530718\n",
      "Generated  14146  potential Fourier coefficients\n",
      " with phases uniformly distributed between 0 and  6.28318530718\n",
      "Generated  14146  potential Fourier coefficients\n",
      " with phases uniformly distributed between 0 and  6.28318530718\n",
      "Generated  14146  potential Fourier coefficients\n",
      " with phases uniformly distributed between 0 and  6.28318530718\n",
      "Generated  14146  potential Fourier coefficients\n",
      " with phases uniformly distributed between 0 and  6.28318530718\n",
      "Generated  14146  potential Fourier coefficients\n",
      " with phases uniformly distributed between 0 and  6.28318530718\n",
      "Generated  14146  potential Fourier coefficients\n",
      " with phases uniformly distributed between 0 and  6.28318530718\n",
      "Generated  14146  potential Fourier coefficients\n",
      " with phases uniformly distributed between 0 and  6.28318530718\n",
      "Generated  14146  potential Fourier coefficients\n",
      " with phases uniformly distributed between 0 and  6.28318530718\n",
      "Generated  14146  potential Fourier coefficients\n",
      " with phases uniformly distributed between 0 and  6.28318530718\n",
      "Generated  14146  potential Fourier coefficients\n",
      " with phases uniformly distributed between 0 and  6.28318530718\n",
      "Generated  14146  potential Fourier coefficients\n",
      " with phases uniformly distributed between 0 and  6.28318530718\n",
      "Generated  14146  potential Fourier coefficients\n",
      " with phases uniformly distributed between 0 and  6.28318530718\n",
      "Generated  14146  potential Fourier coefficients\n",
      " with phases uniformly distributed between 0 and  6.28318530718\n",
      "Generated  14146  potential Fourier coefficients\n",
      " with phases uniformly distributed between 0 and  6.28318530718\n",
      "Generated  14146  potential Fourier coefficients\n",
      " with phases uniformly distributed between 0 and  6.28318530718\n",
      "Generated  14146  potential Fourier coefficients\n",
      " with phases uniformly distributed between 0 and  6.28318530718\n",
      "Generated  14146  potential Fourier coefficients\n",
      " with phases uniformly distributed between 0 and  6.28318530718\n",
      "Generated  14146  potential Fourier coefficients\n",
      " with phases uniformly distributed between 0 and  6.28318530718\n",
      "Generated  14146  potential Fourier coefficients\n",
      " with phases uniformly distributed between 0 and  6.28318530718\n",
      "Generated  14146  potential Fourier coefficients\n",
      " with phases uniformly distributed between 0 and  6.28318530718\n",
      "Generated  14146  potential Fourier coefficients\n",
      " with phases uniformly distributed between 0 and  6.28318530718\n",
      "Generated  14146  potential Fourier coefficients\n",
      " with phases uniformly distributed between 0 and  6.28318530718\n",
      "Generated  14146  potential Fourier coefficients\n",
      " with phases uniformly distributed between 0 and  6.28318530718\n",
      "Generated  14146  potential Fourier coefficients\n",
      " with phases uniformly distributed between 0 and  6.28318530718\n",
      "Generated  14146  potential Fourier coefficients\n",
      " with phases uniformly distributed between 0 and  6.28318530718\n",
      "Generated  14146  potential Fourier coefficients\n",
      " with phases uniformly distributed between 0 and  6.28318530718\n",
      "Generated  14146  potential Fourier coefficients\n",
      " with phases uniformly distributed between 0 and  6.28318530718\n",
      "Generated  14146  potential Fourier coefficients\n",
      " with phases uniformly distributed between 0 and  6.28318530718\n",
      "Generated  14146  potential Fourier coefficients\n",
      " with phases uniformly distributed between 0 and  6.28318530718\n",
      "Generated  14146  potential Fourier coefficients\n",
      " with phases uniformly distributed between 0 and  6.28318530718\n",
      "Generated  14146  potential Fourier coefficients\n",
      " with phases uniformly distributed between 0 and  6.28318530718\n",
      "Generated  14146  potential Fourier coefficients\n",
      " with phases uniformly distributed between 0 and  6.28318530718\n",
      "Generated  14146  potential Fourier coefficients\n",
      " with phases uniformly distributed between 0 and  6.28318530718\n",
      "Generated  14146  potential Fourier coefficients\n",
      " with phases uniformly distributed between 0 and  6.28318530718\n",
      "Generated  14146  potential Fourier coefficients\n",
      " with phases uniformly distributed between 0 and  6.28318530718\n",
      "Generated  14146  potential Fourier coefficients\n",
      " with phases uniformly distributed between 0 and  6.28318530718\n",
      "Generated  14146  potential Fourier coefficients\n",
      " with phases uniformly distributed between 0 and  6.28318530718\n",
      "Generated  14146  potential Fourier coefficients\n",
      " with phases uniformly distributed between 0 and  6.28318530718\n",
      "Generated  14146  potential Fourier coefficients\n",
      " with phases uniformly distributed between 0 and  6.28318530718\n",
      "Generated  14146  potential Fourier coefficients\n",
      " with phases uniformly distributed between 0 and  6.28318530718\n",
      "Generated  14146  potential Fourier coefficients\n",
      " with phases uniformly distributed between 0 and  6.28318530718\n",
      "Generated  14146  potential Fourier coefficients\n",
      " with phases uniformly distributed between 0 and  6.28318530718\n",
      "Generated  14146  potential Fourier coefficients\n",
      " with phases uniformly distributed between 0 and  6.28318530718\n",
      "Generated  14146  potential Fourier coefficients\n",
      " with phases uniformly distributed between 0 and  6.28318530718\n",
      "Generated  14146  potential Fourier coefficients\n",
      " with phases uniformly distributed between 0 and  6.28318530718\n",
      "Generated  14146  potential Fourier coefficients\n",
      " with phases uniformly distributed between 0 and  6.28318530718\n",
      "Generated  14146  potential Fourier coefficients\n",
      " with phases uniformly distributed between 0 and  6.28318530718\n",
      "Generated  14146  potential Fourier coefficients\n",
      " with phases uniformly distributed between 0 and  6.28318530718\n",
      "Generated  14146  potential Fourier coefficients\n",
      " with phases uniformly distributed between 0 and  6.28318530718\n",
      "Generated  14146  potential Fourier coefficients\n",
      " with phases uniformly distributed between 0 and  6.28318530718\n",
      "Generated  14146  potential Fourier coefficients\n",
      " with phases uniformly distributed between 0 and  6.28318530718\n",
      "Generated  14146  potential Fourier coefficients\n",
      " with phases uniformly distributed between 0 and  6.28318530718\n",
      "Generated  14146  potential Fourier coefficients\n",
      " with phases uniformly distributed between 0 and  6.28318530718\n",
      "Generated  14146  potential Fourier coefficients\n",
      " with phases uniformly distributed between 0 and  6.28318530718\n",
      "Generated  14146  potential Fourier coefficients\n",
      " with phases uniformly distributed between 0 and  6.28318530718\n",
      "Generated  14146  potential Fourier coefficients\n",
      " with phases uniformly distributed between 0 and  6.28318530718\n",
      "Generated  14146  potential Fourier coefficients\n",
      " with phases uniformly distributed between 0 and  6.28318530718\n",
      "Generated  14146  potential Fourier coefficients\n",
      " with phases uniformly distributed between 0 and  6.28318530718\n",
      "Generated  14146  potential Fourier coefficients\n",
      " with phases uniformly distributed between 0 and  6.28318530718\n",
      "Generated  14146  potential Fourier coefficients\n",
      " with phases uniformly distributed between 0 and  6.28318530718\n",
      "Generated  14146  potential Fourier coefficients\n",
      " with phases uniformly distributed between 0 and  6.28318530718\n",
      "Generated  14146  potential Fourier coefficients\n",
      " with phases uniformly distributed between 0 and  6.28318530718\n",
      "Generated  14146  potential Fourier coefficients\n",
      " with phases uniformly distributed between 0 and  6.28318530718\n",
      "Generated  14146  potential Fourier coefficients\n",
      " with phases uniformly distributed between 0 and  6.28318530718\n",
      "Generated  14146  potential Fourier coefficients\n",
      " with phases uniformly distributed between 0 and  6.28318530718\n",
      "Generated  14146  potential Fourier coefficients\n",
      " with phases uniformly distributed between 0 and  6.28318530718\n",
      "Generated  14146  potential Fourier coefficients\n",
      " with phases uniformly distributed between 0 and  6.28318530718\n",
      "Generated  14146  potential Fourier coefficients\n",
      " with phases uniformly distributed between 0 and  6.28318530718\n",
      "Generated  14146  potential Fourier coefficients\n",
      " with phases uniformly distributed between 0 and  6.28318530718\n",
      "Generated  14146  potential Fourier coefficients\n",
      " with phases uniformly distributed between 0 and  6.28318530718\n",
      "Generated  14146  potential Fourier coefficients\n",
      " with phases uniformly distributed between 0 and  6.28318530718\n",
      "Generated  14146  potential Fourier coefficients\n",
      " with phases uniformly distributed between 0 and  6.28318530718\n",
      "Generated  14146  potential Fourier coefficients\n",
      " with phases uniformly distributed between 0 and  6.28318530718\n",
      "Generated  14146  potential Fourier coefficients\n",
      " with phases uniformly distributed between 0 and  6.28318530718\n",
      "Generated  14146  potential Fourier coefficients\n",
      " with phases uniformly distributed between 0 and  6.28318530718\n",
      "Generated  14146  potential Fourier coefficients\n",
      " with phases uniformly distributed between 0 and  6.28318530718\n",
      "Generated  14146  potential Fourier coefficients\n",
      " with phases uniformly distributed between 0 and  6.28318530718\n",
      "Generated  14146  potential Fourier coefficients\n",
      " with phases uniformly distributed between 0 and  6.28318530718\n",
      "Generated  14146  potential Fourier coefficients\n",
      " with phases uniformly distributed between 0 and  6.28318530718\n",
      "Generated  14146  potential Fourier coefficients\n",
      " with phases uniformly distributed between 0 and  6.28318530718\n",
      "Generated  14146  potential Fourier coefficients\n",
      " with phases uniformly distributed between 0 and  6.28318530718\n",
      "Generated  14146  potential Fourier coefficients\n",
      " with phases uniformly distributed between 0 and  6.28318530718\n"
     ]
    },
    {
     "name": "stderr",
     "output_type": "stream",
     "text": [
      "/Users/LaurencePeanuts/Documents/Travail/Stanford/Music/Music/beatbox/universe.py:597: RuntimeWarning: divide by zero encountered in power\n",
      "  self.Power_Spectrum = self.PSnorm*10000*np.power((self.k/self.kstar) ,(-3+(self.n_s-1)))\n"
     ]
    }
   ],
   "source": [
    "numreal = 100\n",
    "\n",
    "for i in range(numreal):\n",
    "    beatbox.You.initiate_simulated_universe(truncated_nmax = 15)"
   ]
  },
  {
   "cell_type": "code",
   "execution_count": null,
   "metadata": {
    "collapsed": false
   },
   "outputs": [],
   "source": []
  },
  {
   "cell_type": "code",
   "execution_count": null,
   "metadata": {
    "collapsed": false
   },
   "outputs": [],
   "source": []
  },
  {
   "cell_type": "code",
   "execution_count": null,
   "metadata": {
    "collapsed": false
   },
   "outputs": [],
   "source": []
  },
  {
   "cell_type": "code",
   "execution_count": null,
   "metadata": {
    "collapsed": false
   },
   "outputs": [],
   "source": []
  },
  {
   "cell_type": "code",
   "execution_count": null,
   "metadata": {
    "collapsed": false
   },
   "outputs": [],
   "source": []
  },
  {
   "cell_type": "code",
   "execution_count": null,
   "metadata": {
    "collapsed": false
   },
   "outputs": [],
   "source": []
  },
  {
   "cell_type": "code",
   "execution_count": 5,
   "metadata": {
    "collapsed": false
   },
   "outputs": [
    {
     "name": "stdout",
     "output_type": "stream",
     "text": [
      "0.00450801849365\n",
      "total time is:\n",
      "0.501989126205\n"
     ]
    },
    {
     "name": "stderr",
     "output_type": "stream",
     "text": [
      "/Users/LaurencePeanuts/Documents/Travail/Stanford/Music/Music/beatbox/universe.py:431: ComplexWarning: Casting complex values to real discards the imaginary part\n",
      "  ay_real[zero_ind] = value[zero_ind].astype(np.float)\n",
      "/Users/LaurencePeanuts/Documents/Travail/Stanford/Music/Music/beatbox/multiverse.py:494: ComplexWarning: Casting complex values to real discards the imaginary part\n",
      "  R_real[zero_ind,:] = beatbox.Universe.R[zero_ind,:].astype(np.float)\n",
      "/Users/LaurencePeanuts/Documents/Travail/Stanford/Music/Music/beatbox/multiverse.py:440: RuntimeWarning: divide by zero encountered in power\n",
      "  Power_Spectrum = PSnorm*10000*np.power((beatbox.Universe.k/kstar) ,(-3+(n_s-1)))\n"
     ]
    }
   ],
   "source": [
    "if not os.path.isfile('../data/covCyy_lmax%d_lmin%d.txt' % (beatbox.Multiverse.truncated_lmax, beatbox.Multiverse.truncated_lmin)):\n",
    "    beatbox.You.read_Planck_samples()\n",
    "    beatbox.You.calculate_covariance_matrix(filename='lmax%d_lmin%d' % (beatbox.Multiverse.truncated_lmax, beatbox.Multiverse.truncated_lmin))\n",
    "else:\n",
    "    beatbox.You.load_covariance_matrix(filename='covCyy_lmax%d_lmin%d.txt' % (beatbox.Multiverse.truncated_lmax, beatbox.Multiverse.truncated_lmin))\n",
    "    \n",
    "# Calculate the inverse of the a_y covariance matrix\n",
    "beatbox.You.calculate_sdv_Cyy_inverse()\n",
    "\n",
    "\n",
    "datamap = beatbox.You.all_simulated_universes[0].ay2ayreal_for_inference(beatbox.You.all_simulated_universes[0].ay)+beatbox.You.generate_one_realization_of_noise()\n",
    "beatbox.You.all_simulated_universes[-1].ay_real = datamap\n",
    " \n",
    "\n",
    "MOCK = 1\n",
    "beatbox.You.solve_for_3D_potential(datamap.T , A=None, print_alpha=0)"
   ]
  },
  {
   "cell_type": "code",
   "execution_count": 6,
   "metadata": {
    "collapsed": false,
    "scrolled": true
   },
   "outputs": [
    {
     "name": "stdout",
     "output_type": "stream",
     "text": [
      "0\n",
      "0.00121903419495\n",
      "time for loading is:\n",
      "0.00899410247803\n",
      "successfully loaded A from the disk.\n",
      "total time is:\n",
      "0.0114290714264\n",
      "1\n",
      "0.00074291229248\n",
      "time for loading is:\n",
      "0.0117909908295\n",
      "successfully loaded A from the disk.\n",
      "total time is:\n",
      "0.0139038562775\n",
      "2\n",
      "0.000432014465332\n",
      "time for loading is:\n",
      "0.0079779624939\n",
      "successfully loaded A from the disk.\n",
      "total time is:\n",
      "0.00980114936829\n",
      "3\n",
      "0.000570058822632\n",
      "time for loading is:\n",
      "0.00870513916016\n",
      "successfully loaded A from the disk.\n",
      "total time is:\n",
      "0.0132119655609\n",
      "4\n",
      "0.000956058502197\n",
      "time for loading is:\n",
      "0.00916385650635\n",
      "successfully loaded A from the disk.\n",
      "total time is:\n",
      "0.0133271217346\n",
      "5\n",
      "0.000617980957031\n",
      "time for loading is:\n",
      "0.00827217102051\n",
      "successfully loaded A from the disk.\n",
      "total time is:\n",
      "0.0100860595703\n",
      "6\n",
      "0.000658988952637\n",
      "time for loading is:\n",
      "0.0108699798584\n",
      "successfully loaded A from the disk.\n",
      "total time is:\n",
      "0.0129950046539\n",
      "7\n",
      "0.000433921813965\n",
      "time for loading is:\n",
      "0.00714993476868\n",
      "successfully loaded A from the disk.\n",
      "total time is:\n",
      "0.00916910171509\n",
      "8\n",
      "0.00049901008606\n",
      "time for loading is:\n",
      "0.00872182846069\n",
      "successfully loaded A from the disk.\n",
      "total time is:\n",
      "0.0106999874115\n",
      "9\n",
      "0.0022988319397\n",
      "time for loading is:\n",
      "0.0152480602264\n",
      "successfully loaded A from the disk.\n",
      "total time is:\n",
      "0.0220859050751\n",
      "10\n",
      "0.000760078430176\n",
      "time for loading is:\n",
      "0.00911903381348\n",
      "successfully loaded A from the disk.\n",
      "total time is:\n",
      "0.0112850666046\n",
      "11\n",
      "0.000632047653198\n",
      "time for loading is:\n",
      "0.00796699523926\n",
      "successfully loaded A from the disk.\n",
      "total time is:\n",
      "0.0105319023132\n",
      "12\n",
      "0.000572919845581\n",
      "time for loading is:\n",
      "0.00730681419373\n",
      "successfully loaded A from the disk.\n",
      "total time is:\n",
      "0.008957862854\n",
      "13\n",
      "0.000536918640137\n",
      "time for loading is:\n",
      "0.0110869407654\n",
      "successfully loaded A from the disk.\n",
      "total time is:\n",
      "0.0128619670868\n",
      "14\n",
      "0.000457048416138\n",
      "time for loading is:\n",
      "0.00711798667908\n",
      "successfully loaded A from the disk.\n",
      "total time is:\n",
      "0.00910782814026\n",
      "15\n",
      "0.000433921813965\n",
      "time for loading is:\n",
      "0.00740504264832\n",
      "successfully loaded A from the disk.\n",
      "total time is:\n",
      "0.00973081588745\n",
      "16\n",
      "0.000708818435669\n",
      "time for loading is:\n",
      "0.00831890106201\n",
      "successfully loaded A from the disk.\n",
      "total time is:\n",
      "0.0126039981842\n",
      "17\n",
      "0.000442981719971\n",
      "time for loading is:\n",
      "0.0109188556671\n",
      "successfully loaded A from the disk.\n",
      "total time is:\n",
      "0.0128269195557\n",
      "18\n",
      "0.000673055648804\n",
      "time for loading is:\n",
      "0.00784993171692\n",
      "successfully loaded A from the disk.\n",
      "total time is:\n",
      "0.00985789299011\n",
      "19\n",
      "0.000436067581177\n",
      "time for loading is:\n",
      "0.00758981704712\n",
      "successfully loaded A from the disk.\n",
      "total time is:\n",
      "0.00970911979675\n",
      "20\n",
      "0.000441074371338\n",
      "time for loading is:\n",
      "0.00892901420593\n",
      "successfully loaded A from the disk.\n",
      "total time is:\n",
      "0.01265001297\n",
      "21\n",
      "0.000442981719971\n",
      "time for loading is:\n",
      "0.0105979442596\n",
      "successfully loaded A from the disk.\n",
      "total time is:\n",
      "0.0126099586487\n",
      "22\n",
      "0.000501871109009\n",
      "time for loading is:\n",
      "0.00755095481873\n",
      "successfully loaded A from the disk.\n",
      "total time is:\n",
      "0.0092248916626\n",
      "23\n",
      "0.000433921813965\n",
      "time for loading is:\n",
      "0.00724697113037\n",
      "successfully loaded A from the disk.\n",
      "total time is:\n",
      "0.00874495506287\n",
      "24\n",
      "0.000433921813965\n",
      "time for loading is:\n",
      "0.00846600532532\n",
      "successfully loaded A from the disk.\n",
      "total time is:\n",
      "0.0104329586029\n",
      "25\n",
      "0.000783920288086\n",
      "time for loading is:\n",
      "0.0111358165741\n",
      "successfully loaded A from the disk.\n",
      "total time is:\n",
      "0.0138750076294\n",
      "26\n",
      "0.000445127487183\n",
      "time for loading is:\n",
      "0.0074200630188\n",
      "successfully loaded A from the disk.\n",
      "total time is:\n",
      "0.00894117355347\n",
      "27\n",
      "0.000445127487183\n",
      "time for loading is:\n",
      "0.00721001625061\n",
      "successfully loaded A from the disk.\n",
      "total time is:\n",
      "0.00891518592834\n",
      "28\n",
      "0.000457048416138\n",
      "time for loading is:\n",
      "0.00705790519714\n",
      "successfully loaded A from the disk.\n",
      "total time is:\n",
      "0.0094940662384\n",
      "29\n",
      "0.000699043273926\n",
      "time for loading is:\n",
      "0.01340508461\n",
      "successfully loaded A from the disk.\n",
      "total time is:\n",
      "0.0165920257568\n",
      "30\n",
      "0.000445127487183\n",
      "time for loading is:\n",
      "0.0073390007019\n",
      "successfully loaded A from the disk.\n",
      "total time is:\n",
      "0.00921297073364\n",
      "31\n",
      "0.000754117965698\n",
      "time for loading is:\n",
      "0.00937986373901\n",
      "successfully loaded A from the disk.\n",
      "total time is:\n",
      "0.0113770961761\n",
      "32\n",
      "0.000452995300293\n",
      "time for loading is:\n",
      "0.00726795196533\n",
      "successfully loaded A from the disk.\n",
      "total time is:\n",
      "0.00965905189514\n",
      "33\n",
      "0.000592231750488\n",
      "time for loading is:\n",
      "0.00881099700928\n",
      "successfully loaded A from the disk.\n",
      "total time is:\n",
      "0.0120661258698\n",
      "34\n",
      "0.000701904296875\n",
      "time for loading is:\n",
      "0.00782990455627\n",
      "successfully loaded A from the disk.\n",
      "total time is:\n",
      "0.0097029209137\n",
      "35\n",
      "0.000481128692627\n",
      "time for loading is:\n",
      "0.0104441642761\n",
      "successfully loaded A from the disk.\n",
      "total time is:\n",
      "0.012011051178\n",
      "36\n",
      "0.00075888633728\n",
      "time for loading is:\n",
      "0.00814700126648\n",
      "successfully loaded A from the disk.\n",
      "total time is:\n",
      "0.0109479427338\n",
      "37\n",
      "0.000653982162476\n",
      "time for loading is:\n",
      "0.00841498374939\n",
      "successfully loaded A from the disk.\n",
      "total time is:\n",
      "0.0117061138153\n",
      "38\n",
      "0.000440835952759\n",
      "time for loading is:\n",
      "0.00719714164734\n",
      "successfully loaded A from the disk.\n",
      "total time is:\n",
      "0.0090868473053\n",
      "39\n",
      "0.00142693519592\n",
      "time for loading is:\n",
      "0.0103318691254\n",
      "successfully loaded A from the disk.\n",
      "total time is:\n",
      "0.0128910541534\n",
      "40\n",
      "0.000434875488281\n",
      "time for loading is:\n",
      "0.00874805450439\n",
      "successfully loaded A from the disk.\n",
      "total time is:\n",
      "0.0102579593658\n",
      "41\n",
      "0.00073504447937\n",
      "time for loading is:\n",
      "0.00903105735779\n",
      "successfully loaded A from the disk.\n",
      "total time is:\n",
      "0.0137639045715\n",
      "42\n",
      "0.000848054885864\n",
      "time for loading is:\n",
      "0.00905990600586\n",
      "successfully loaded A from the disk.\n",
      "total time is:\n",
      "0.0112240314484\n",
      "43\n",
      "0.00126004219055\n",
      "time for loading is:\n",
      "0.00939893722534\n",
      "successfully loaded A from the disk.\n",
      "total time is:\n",
      "0.0122380256653\n",
      "44\n",
      "0.000730991363525\n",
      "time for loading is:\n",
      "0.00952291488647\n",
      "successfully loaded A from the disk.\n",
      "total time is:\n",
      "0.0120029449463\n",
      "45\n",
      "0.000679016113281\n",
      "time for loading is:\n",
      "0.0197670459747\n",
      "successfully loaded A from the disk.\n",
      "total time is:\n",
      "0.0245981216431\n",
      "46\n",
      "0.000680923461914\n",
      "time for loading is:\n",
      "0.00864791870117\n",
      "successfully loaded A from the disk.\n",
      "total time is:\n",
      "0.0109558105469\n",
      "47\n",
      "0.000786066055298\n",
      "time for loading is:\n",
      "0.00885200500488\n",
      "successfully loaded A from the disk.\n",
      "total time is:\n",
      "0.0116021633148\n",
      "48\n",
      "0.000473976135254\n",
      "time for loading is:\n",
      "0.0136098861694\n",
      "successfully loaded A from the disk.\n",
      "total time is:\n",
      "0.0154500007629\n",
      "49\n",
      "0.00198984146118\n",
      "time for loading is:\n",
      "0.00854396820068\n",
      "successfully loaded A from the disk.\n",
      "total time is:\n",
      "0.0116109848022\n",
      "50\n",
      "0.000433206558228\n",
      "time for loading is:\n",
      "0.0103888511658\n",
      "successfully loaded A from the disk.\n",
      "total time is:\n",
      "0.0142331123352\n",
      "51\n",
      "0.000590085983276\n",
      "time for loading is:\n",
      "0.0134179592133\n",
      "successfully loaded A from the disk.\n",
      "total time is:\n",
      "0.0158879756927\n",
      "52\n",
      "0.000839948654175\n",
      "time for loading is:\n",
      "0.0168998241425\n",
      "successfully loaded A from the disk.\n",
      "total time is:\n",
      "0.0197010040283\n",
      "53\n",
      "0.000658988952637\n",
      "time for loading is:\n",
      "0.00992107391357\n",
      "successfully loaded A from the disk.\n",
      "total time is:\n",
      "0.0116829872131\n",
      "54\n",
      "0.000602006912231\n",
      "time for loading is:\n",
      "0.00725984573364\n",
      "successfully loaded A from the disk.\n",
      "total time is:\n",
      "0.00896286964417\n",
      "55\n",
      "0.000442028045654\n",
      "time for loading is:\n",
      "0.00712490081787\n",
      "successfully loaded A from the disk.\n",
      "total time is:\n",
      "0.00940299034119\n",
      "56\n",
      "0.000692844390869\n",
      "time for loading is:\n",
      "0.00853991508484\n",
      "successfully loaded A from the disk.\n",
      "total time is:\n",
      "0.0104088783264\n",
      "57\n",
      "0.00162386894226\n",
      "time for loading is:\n",
      "0.0198628902435\n",
      "successfully loaded A from the disk.\n",
      "total time is:\n",
      "0.0276188850403\n",
      "58\n",
      "0.00091814994812\n",
      "time for loading is:\n",
      "0.00930595397949\n",
      "successfully loaded A from the disk.\n",
      "total time is:\n",
      "0.0121891498566\n",
      "59\n",
      "0.000463008880615\n",
      "time for loading is:\n",
      "0.00829887390137\n",
      "successfully loaded A from the disk.\n",
      "total time is:\n",
      "0.0103788375854\n",
      "60\n",
      "0.000677108764648\n",
      "time for loading is:\n",
      "0.00973391532898\n",
      "successfully loaded A from the disk.\n",
      "total time is:\n",
      "0.0117061138153\n",
      "61\n",
      "0.00137996673584\n",
      "time for loading is:\n",
      "0.0108280181885\n",
      "successfully loaded A from the disk.\n",
      "total time is:\n",
      "0.0136618614197\n",
      "62\n",
      "0.000436782836914\n",
      "time for loading is:\n",
      "0.0107028484344\n",
      "successfully loaded A from the disk.\n",
      "total time is:\n",
      "0.0131509304047\n",
      "63\n",
      "0.000632047653198\n",
      "time for loading is:\n",
      "0.00767207145691\n",
      "successfully loaded A from the disk.\n",
      "total time is:\n",
      "0.0103571414948\n",
      "64\n",
      "0.000709056854248\n",
      "time for loading is:\n",
      "0.0130498409271\n",
      "successfully loaded A from the disk.\n",
      "total time is:\n",
      "0.0152208805084\n",
      "65\n",
      "0.000434875488281\n",
      "time for loading is:\n",
      "0.00700402259827\n",
      "successfully loaded A from the disk.\n",
      "total time is:\n",
      "0.00851702690125\n",
      "66\n",
      "0.00044584274292\n",
      "time for loading is:\n",
      "0.00733304023743\n",
      "successfully loaded A from the disk.\n",
      "total time is:\n",
      "0.00886201858521\n",
      "67\n",
      "0.00043511390686\n",
      "time for loading is:\n",
      "0.00793290138245\n",
      "successfully loaded A from the disk.\n",
      "total time is:\n",
      "0.0101871490479\n",
      "68\n",
      "0.000443935394287\n",
      "time for loading is:\n",
      "0.00701093673706\n",
      "successfully loaded A from the disk.\n",
      "total time is:\n",
      "0.00852394104004\n",
      "69\n",
      "0.000453948974609\n",
      "time for loading is:\n",
      "0.00698900222778\n",
      "successfully loaded A from the disk.\n",
      "total time is:\n",
      "0.00851893424988\n",
      "70\n",
      "0.00043511390686\n",
      "time for loading is:\n",
      "0.0069420337677\n",
      "successfully loaded A from the disk.\n",
      "total time is:\n",
      "0.00861120223999\n",
      "71\n",
      "0.000434875488281\n",
      "time for loading is:\n",
      "0.00696396827698\n",
      "successfully loaded A from the disk.\n",
      "total time is:\n",
      "0.00874781608582\n",
      "72\n",
      "0.000534057617188\n",
      "time for loading is:\n",
      "0.00746917724609\n",
      "successfully loaded A from the disk.\n",
      "total time is:\n",
      "0.00944495201111\n",
      "73\n",
      "0.00048303604126\n",
      "time for loading is:\n",
      "0.00722193717957\n",
      "successfully loaded A from the disk.\n",
      "total time is:\n",
      "0.0103249549866\n",
      "74\n",
      "0.000710964202881\n",
      "time for loading is:\n",
      "0.00737714767456\n",
      "successfully loaded A from the disk.\n",
      "total time is:\n",
      "0.00945591926575\n",
      "75\n",
      "0.000434875488281\n",
      "time for loading is:\n",
      "0.0102958679199\n",
      "successfully loaded A from the disk.\n",
      "total time is:\n",
      "0.0124340057373\n",
      "76\n",
      "0.000691890716553\n",
      "time for loading is:\n",
      "0.00800085067749\n",
      "successfully loaded A from the disk.\n",
      "total time is:\n",
      "0.01025390625\n",
      "77\n",
      "0.000619173049927\n",
      "time for loading is:\n",
      "0.00812816619873\n",
      "successfully loaded A from the disk.\n",
      "total time is:\n",
      "0.00983119010925\n",
      "78\n",
      "0.000473022460938\n",
      "time for loading is:\n",
      "0.00743103027344\n",
      "successfully loaded A from the disk.\n",
      "total time is:\n",
      "0.00919413566589\n",
      "79\n",
      "0.000433921813965\n",
      "time for loading is:\n",
      "0.00693202018738\n",
      "successfully loaded A from the disk.\n",
      "total time is:\n",
      "0.00854897499084\n",
      "80\n",
      "0.000509023666382\n",
      "time for loading is:\n",
      "0.00713801383972\n",
      "successfully loaded A from the disk.\n",
      "total time is:\n",
      "0.00883913040161\n",
      "81\n",
      "0.000499963760376\n",
      "time for loading is:\n",
      "0.0073869228363\n",
      "successfully loaded A from the disk.\n",
      "total time is:\n",
      "0.00946998596191\n",
      "82\n",
      "0.000652074813843\n",
      "time for loading is:\n",
      "0.00746893882751\n",
      "successfully loaded A from the disk.\n",
      "total time is:\n",
      "0.00922799110413\n",
      "83\n",
      "0.000435829162598\n",
      "time for loading is:\n",
      "0.00694417953491\n",
      "successfully loaded A from the disk.\n",
      "total time is:\n",
      "0.00844883918762\n",
      "84\n",
      "0.000612020492554\n",
      "time for loading is:\n",
      "0.00881600379944\n",
      "successfully loaded A from the disk.\n",
      "total time is:\n",
      "0.0107839107513\n",
      "85\n",
      "0.000434875488281\n",
      "time for loading is:\n",
      "0.00701713562012\n",
      "successfully loaded A from the disk.\n",
      "total time is:\n",
      "0.00878882408142\n",
      "86\n",
      "0.000433921813965\n",
      "time for loading is:\n",
      "0.00838804244995\n",
      "successfully loaded A from the disk.\n",
      "total time is:\n",
      "0.0112669467926\n",
      "87\n",
      "0.00066089630127\n",
      "time for loading is:\n",
      "0.00985217094421\n",
      "successfully loaded A from the disk.\n",
      "total time is:\n",
      "0.0123288631439\n",
      "88\n",
      "0.000694036483765\n",
      "time for loading is:\n",
      "0.0158879756927\n",
      "successfully loaded A from the disk.\n",
      "total time is:\n",
      "0.0183720588684\n",
      "89\n",
      "0.000728845596313\n",
      "time for loading is:\n",
      "0.0137441158295\n",
      "successfully loaded A from the disk.\n",
      "total time is:\n",
      "0.0162889957428\n",
      "90\n",
      "0.000681161880493\n",
      "time for loading is:\n",
      "0.00801396369934\n",
      "successfully loaded A from the disk.\n",
      "total time is:\n",
      "0.00980019569397\n",
      "91\n",
      "0.00118494033813\n",
      "time for loading is:\n",
      "0.00728917121887\n",
      "successfully loaded A from the disk.\n",
      "total time is:\n",
      "0.00985598564148\n",
      "92\n",
      "0.00043511390686\n",
      "time for loading is:\n",
      "0.00693297386169\n",
      "successfully loaded A from the disk.\n",
      "total time is:\n",
      "0.00844502449036\n",
      "93\n",
      "0.000485181808472\n",
      "time for loading is:\n",
      "0.00732421875\n",
      "successfully loaded A from the disk.\n",
      "total time is:\n",
      "0.00913715362549\n",
      "94\n",
      "0.000437021255493\n",
      "time for loading is:\n",
      "0.00781607627869\n",
      "successfully loaded A from the disk.\n",
      "total time is:\n",
      "0.00993895530701\n",
      "95\n",
      "0.000462055206299\n",
      "time for loading is:\n",
      "0.00695109367371\n",
      "successfully loaded A from the disk.\n",
      "total time is:\n",
      "0.0085289478302\n",
      "96\n",
      "0.000473976135254\n",
      "time for loading is:\n",
      "0.00735902786255\n",
      "successfully loaded A from the disk.\n",
      "total time is:\n",
      "0.0091700553894\n",
      "97\n",
      "0.00121998786926\n",
      "time for loading is:\n",
      "0.00822496414185\n",
      "successfully loaded A from the disk.\n",
      "total time is:\n",
      "0.0107789039612\n",
      "98\n",
      "0.000671863555908\n",
      "time for loading is:\n",
      "0.0079448223114\n",
      "successfully loaded A from the disk.\n",
      "total time is:\n",
      "0.0106430053711\n",
      "99\n",
      "0.00043797492981\n",
      "time for loading is:\n",
      "0.00757503509521\n",
      "successfully loaded A from the disk.\n",
      "total time is:\n",
      "0.0090639591217\n",
      "[[ 1.0842427 ]\n",
      " [ 0.57711494]\n",
      " [ 0.32279163]\n",
      " ..., \n",
      " [ 1.15148313]\n",
      " [ 1.08470148]\n",
      " [ 0.17951135]]\n"
     ]
    }
   ],
   "source": [
    "cov_frac = np.zeros((numreal,1))\n",
    "\n",
    "for i in range(numreal):\n",
    "    print i\n",
    "    noise_realization = beatbox.You.generate_one_realization_of_noise()\n",
    "    true_alms = beatbox.You.all_simulated_universes[i].ay2ayreal_for_inference(beatbox.You.all_simulated_universes[i].ay)\n",
    "    datamap =  true_alms + noise_realization\n",
    "    beatbox.You.solve_for_3D_potential(datamap.T , A=1, print_alpha=0)\n",
    "    \n",
    "    We=beatbox.Universe()        \n",
    "    beatbox.You.all_data_universes = np.append(beatbox.You.all_data_universes,We)\n",
    "    beatbox.You.all_data_universes[i].fn = beatbox.You.reconstrunct_fn\n",
    "\n",
    "    if i == 0:\n",
    "            ordered_inds_largenmax = beatbox.You.all_simulated_universes[i].get_ordered_fn_indices()\n",
    "            ordered_inds_smallnmax = beatbox.You.all_data_universes[i].get_ordered_fn_indices()\n",
    "    min_n_mode = np.min((len(ordered_inds_largenmax), len(ordered_inds_smallnmax) )    )\n",
    "    \n",
    "    true_fns = beatbox.You.all_simulated_universes[i].fn[ordered_inds_largenmax[:min_n_mode]].reshape(-1,1)\n",
    "    rec_fns = beatbox.You.all_data_universes[i].fn[ordered_inds_smallnmax[:min_n_mode]].reshape(-1,1)\n",
    "    abs_diff = np.abs(true_fns - rec_fns)\n",
    "    err_sig = np.sqrt(np.diag(beatbox.You.inv_A)[ordered_inds_smallnmax[:min_n_mode]])\n",
    "    diff_sigma = np.divide(abs_diff.reshape(-1,1) , err_sig.reshape(-1,1) ).reshape(-1,1)\n",
    "    cov_frac[i,0] = np.double(np.sum(diff_sigma<=1)) / np.double(len(diff_sigma))\n",
    "#     np.savetxt( \"/Users/yashar/GravIT/Cycle_4_analysis/data/noise_\" + str(\"%0.03d\" % i) + \".txt\", noise_realization)\n",
    "#     np.savetxt( \"/Users/yashar/GravIT/Cycle_4_analysis/data/true_alm_\" + str(\"%0.03d\" % i) + \".txt\", true_alms)\n",
    "#     np.savetxt( \"/Users/yashar/GravIT/Cycle_4_analysis/data/true_fn_\" + str(\"%0.03d\" % i) + \".txt\", true_fns )\n",
    "#     np.savetxt( \"/Users/yashar/GravIT/Cycle_4_analysis/data/rec_fn_\" + str(\"%0.03d\" % i) + \".txt\", rec_fns )\n",
    "#     np.savetxt( \"/Users/yashar/GravIT/Cycle_4_analysis/data/abs_diff_\" + str(\"%0.03d\" % i) + \".txt\", abs_diff)\n",
    "print diff_sigma"
   ]
  },
  {
   "cell_type": "code",
   "execution_count": 7,
   "metadata": {
    "collapsed": false
   },
   "outputs": [
    {
     "name": "stdout",
     "output_type": "stream",
     "text": [
      "(100, 1)\n"
     ]
    },
    {
     "data": {
      "text/plain": [
       "0.67133286318758822"
      ]
     },
     "execution_count": 7,
     "metadata": {},
     "output_type": "execute_result"
    }
   ],
   "source": [
    "print cov_frac.shape\n",
    "np.mean(cov_frac)\n",
    "# print cov_frac\n"
   ]
  },
  {
   "cell_type": "code",
   "execution_count": 8,
   "metadata": {
    "collapsed": false
   },
   "outputs": [
    {
     "name": "stderr",
     "output_type": "stream",
     "text": [
      "/Users/LaurencePeanuts/miniconda2/lib/python2.7/site-packages/numpy/linalg/linalg.py:1821: RuntimeWarning: overflow encountered in det\n",
      "  r = _umath_linalg.det(a, signature=signature)\n",
      "/Users/LaurencePeanuts/miniconda2/lib/python2.7/site-packages/ipykernel/__main__.py:7: RuntimeWarning: invalid value encountered in double_scalars\n"
     ]
    },
    {
     "ename": "ValueError",
     "evalue": "range parameter must be finite.",
     "output_type": "error",
     "traceback": [
      "\u001b[0;31m---------------------------------------------------------------------------\u001b[0m",
      "\u001b[0;31mValueError\u001b[0m                                Traceback (most recent call last)",
      "\u001b[0;32m<ipython-input-8-7d4111f24f8d>\u001b[0m in \u001b[0;36m<module>\u001b[0;34m()\u001b[0m\n\u001b[0;32m----> 1\u001b[0;31m \u001b[0mexecfile\u001b[0m \u001b[0;34m(\u001b[0m\u001b[0;34m\"_CalcEvidence.py\"\u001b[0m\u001b[0;34m)\u001b[0m\u001b[0;34m\u001b[0m\u001b[0m\n\u001b[0m",
      "\u001b[0;32m/Users/LaurencePeanuts/Documents/Travail/Stanford/Music/Music/Scripts/_CalcEvidence.py\u001b[0m in \u001b[0;36m<module>\u001b[0;34m()\u001b[0m\n\u001b[1;32m     15\u001b[0m \u001b[0;34m\u001b[0m\u001b[0m\n\u001b[1;32m     16\u001b[0m \u001b[0;34m\u001b[0m\u001b[0m\n\u001b[0;32m---> 17\u001b[0;31m \u001b[0mn\u001b[0m\u001b[0;34m,\u001b[0m \u001b[0mbins\u001b[0m\u001b[0;34m,\u001b[0m \u001b[0mpatches\u001b[0m \u001b[0;34m=\u001b[0m \u001b[0mplt\u001b[0m\u001b[0;34m.\u001b[0m\u001b[0mhist\u001b[0m\u001b[0;34m(\u001b[0m\u001b[0mEvidenceVector\u001b[0m\u001b[0;34m,\u001b[0m \u001b[0mnp\u001b[0m\u001b[0;34m.\u001b[0m\u001b[0mlogspace\u001b[0m\u001b[0;34m(\u001b[0m\u001b[0;34m-\u001b[0m\u001b[0;36m50\u001b[0m\u001b[0;34m,\u001b[0m \u001b[0;36m1\u001b[0m\u001b[0;34m,\u001b[0m \u001b[0;36m40\u001b[0m\u001b[0;34m)\u001b[0m\u001b[0;34m,\u001b[0m \u001b[0mnormed\u001b[0m\u001b[0;34m=\u001b[0m\u001b[0;36m0\u001b[0m\u001b[0;34m,\u001b[0m \u001b[0mfacecolor\u001b[0m\u001b[0;34m=\u001b[0m\u001b[0;34m'green'\u001b[0m\u001b[0;34m,\u001b[0m \u001b[0malpha\u001b[0m\u001b[0;34m=\u001b[0m\u001b[0;36m0.75\u001b[0m\u001b[0;34m)\u001b[0m\u001b[0;34m\u001b[0m\u001b[0m\n\u001b[0m\u001b[1;32m     18\u001b[0m \u001b[0;34m\u001b[0m\u001b[0m\n\u001b[1;32m     19\u001b[0m \u001b[0mplt\u001b[0m\u001b[0;34m.\u001b[0m\u001b[0mrc\u001b[0m\u001b[0;34m(\u001b[0m\u001b[0;34m'text'\u001b[0m\u001b[0;34m,\u001b[0m \u001b[0musetex\u001b[0m\u001b[0;34m=\u001b[0m\u001b[0mTrue\u001b[0m\u001b[0;34m)\u001b[0m\u001b[0;34m\u001b[0m\u001b[0m\n",
      "\u001b[0;32m/Users/LaurencePeanuts/miniconda2/lib/python2.7/site-packages/matplotlib/pyplot.pyc\u001b[0m in \u001b[0;36mhist\u001b[0;34m(x, bins, range, normed, weights, cumulative, bottom, histtype, align, orientation, rwidth, log, color, label, stacked, hold, data, **kwargs)\u001b[0m\n\u001b[1;32m   3080\u001b[0m                       \u001b[0mhisttype\u001b[0m\u001b[0;34m=\u001b[0m\u001b[0mhisttype\u001b[0m\u001b[0;34m,\u001b[0m \u001b[0malign\u001b[0m\u001b[0;34m=\u001b[0m\u001b[0malign\u001b[0m\u001b[0;34m,\u001b[0m \u001b[0morientation\u001b[0m\u001b[0;34m=\u001b[0m\u001b[0morientation\u001b[0m\u001b[0;34m,\u001b[0m\u001b[0;34m\u001b[0m\u001b[0m\n\u001b[1;32m   3081\u001b[0m                       \u001b[0mrwidth\u001b[0m\u001b[0;34m=\u001b[0m\u001b[0mrwidth\u001b[0m\u001b[0;34m,\u001b[0m \u001b[0mlog\u001b[0m\u001b[0;34m=\u001b[0m\u001b[0mlog\u001b[0m\u001b[0;34m,\u001b[0m \u001b[0mcolor\u001b[0m\u001b[0;34m=\u001b[0m\u001b[0mcolor\u001b[0m\u001b[0;34m,\u001b[0m \u001b[0mlabel\u001b[0m\u001b[0;34m=\u001b[0m\u001b[0mlabel\u001b[0m\u001b[0;34m,\u001b[0m\u001b[0;34m\u001b[0m\u001b[0m\n\u001b[0;32m-> 3082\u001b[0;31m                       stacked=stacked, data=data, **kwargs)\n\u001b[0m\u001b[1;32m   3083\u001b[0m     \u001b[0;32mfinally\u001b[0m\u001b[0;34m:\u001b[0m\u001b[0;34m\u001b[0m\u001b[0m\n\u001b[1;32m   3084\u001b[0m         \u001b[0max\u001b[0m\u001b[0;34m.\u001b[0m\u001b[0m_hold\u001b[0m \u001b[0;34m=\u001b[0m \u001b[0mwashold\u001b[0m\u001b[0;34m\u001b[0m\u001b[0m\n",
      "\u001b[0;32m/Users/LaurencePeanuts/miniconda2/lib/python2.7/site-packages/matplotlib/__init__.pyc\u001b[0m in \u001b[0;36minner\u001b[0;34m(ax, *args, **kwargs)\u001b[0m\n\u001b[1;32m   1890\u001b[0m                     warnings.warn(msg % (label_namer, func.__name__),\n\u001b[1;32m   1891\u001b[0m                                   RuntimeWarning, stacklevel=2)\n\u001b[0;32m-> 1892\u001b[0;31m             \u001b[0;32mreturn\u001b[0m \u001b[0mfunc\u001b[0m\u001b[0;34m(\u001b[0m\u001b[0max\u001b[0m\u001b[0;34m,\u001b[0m \u001b[0;34m*\u001b[0m\u001b[0margs\u001b[0m\u001b[0;34m,\u001b[0m \u001b[0;34m**\u001b[0m\u001b[0mkwargs\u001b[0m\u001b[0;34m)\u001b[0m\u001b[0;34m\u001b[0m\u001b[0m\n\u001b[0m\u001b[1;32m   1893\u001b[0m         \u001b[0mpre_doc\u001b[0m \u001b[0;34m=\u001b[0m \u001b[0minner\u001b[0m\u001b[0;34m.\u001b[0m\u001b[0m__doc__\u001b[0m\u001b[0;34m\u001b[0m\u001b[0m\n\u001b[1;32m   1894\u001b[0m         \u001b[0;32mif\u001b[0m \u001b[0mpre_doc\u001b[0m \u001b[0;32mis\u001b[0m \u001b[0mNone\u001b[0m\u001b[0;34m:\u001b[0m\u001b[0;34m\u001b[0m\u001b[0m\n",
      "\u001b[0;32m/Users/LaurencePeanuts/miniconda2/lib/python2.7/site-packages/matplotlib/axes/_axes.pyc\u001b[0m in \u001b[0;36mhist\u001b[0;34m(self, x, bins, range, normed, weights, cumulative, bottom, histtype, align, orientation, rwidth, log, color, label, stacked, **kwargs)\u001b[0m\n\u001b[1;32m   6190\u001b[0m             \u001b[0;31m# this will automatically overwrite bins,\u001b[0m\u001b[0;34m\u001b[0m\u001b[0;34m\u001b[0m\u001b[0m\n\u001b[1;32m   6191\u001b[0m             \u001b[0;31m# so that each histogram uses the same bins\u001b[0m\u001b[0;34m\u001b[0m\u001b[0;34m\u001b[0m\u001b[0m\n\u001b[0;32m-> 6192\u001b[0;31m             \u001b[0mm\u001b[0m\u001b[0;34m,\u001b[0m \u001b[0mbins\u001b[0m \u001b[0;34m=\u001b[0m \u001b[0mnp\u001b[0m\u001b[0;34m.\u001b[0m\u001b[0mhistogram\u001b[0m\u001b[0;34m(\u001b[0m\u001b[0mx\u001b[0m\u001b[0;34m[\u001b[0m\u001b[0mi\u001b[0m\u001b[0;34m]\u001b[0m\u001b[0;34m,\u001b[0m \u001b[0mbins\u001b[0m\u001b[0;34m,\u001b[0m \u001b[0mweights\u001b[0m\u001b[0;34m=\u001b[0m\u001b[0mw\u001b[0m\u001b[0;34m[\u001b[0m\u001b[0mi\u001b[0m\u001b[0;34m]\u001b[0m\u001b[0;34m,\u001b[0m \u001b[0;34m**\u001b[0m\u001b[0mhist_kwargs\u001b[0m\u001b[0;34m)\u001b[0m\u001b[0;34m\u001b[0m\u001b[0m\n\u001b[0m\u001b[1;32m   6193\u001b[0m             \u001b[0mm\u001b[0m \u001b[0;34m=\u001b[0m \u001b[0mm\u001b[0m\u001b[0;34m.\u001b[0m\u001b[0mastype\u001b[0m\u001b[0;34m(\u001b[0m\u001b[0mfloat\u001b[0m\u001b[0;34m)\u001b[0m  \u001b[0;31m# causes problems later if it's an int\u001b[0m\u001b[0;34m\u001b[0m\u001b[0m\n\u001b[1;32m   6194\u001b[0m             \u001b[0;32mif\u001b[0m \u001b[0mmlast\u001b[0m \u001b[0;32mis\u001b[0m \u001b[0mNone\u001b[0m\u001b[0;34m:\u001b[0m\u001b[0;34m\u001b[0m\u001b[0m\n",
      "\u001b[0;32m/Users/LaurencePeanuts/miniconda2/lib/python2.7/site-packages/numpy/lib/function_base.pyc\u001b[0m in \u001b[0;36mhistogram\u001b[0;34m(a, bins, range, normed, weights, density)\u001b[0m\n\u001b[1;32m    667\u001b[0m     \u001b[0;32mif\u001b[0m \u001b[0;32mnot\u001b[0m \u001b[0mnp\u001b[0m\u001b[0;34m.\u001b[0m\u001b[0mall\u001b[0m\u001b[0;34m(\u001b[0m\u001b[0mnp\u001b[0m\u001b[0;34m.\u001b[0m\u001b[0misfinite\u001b[0m\u001b[0;34m(\u001b[0m\u001b[0;34m[\u001b[0m\u001b[0mmn\u001b[0m\u001b[0;34m,\u001b[0m \u001b[0mmx\u001b[0m\u001b[0;34m]\u001b[0m\u001b[0;34m)\u001b[0m\u001b[0;34m)\u001b[0m\u001b[0;34m:\u001b[0m\u001b[0;34m\u001b[0m\u001b[0m\n\u001b[1;32m    668\u001b[0m         raise ValueError(\n\u001b[0;32m--> 669\u001b[0;31m             'range parameter must be finite.')\n\u001b[0m\u001b[1;32m    670\u001b[0m     \u001b[0;32mif\u001b[0m \u001b[0mmn\u001b[0m \u001b[0;34m==\u001b[0m \u001b[0mmx\u001b[0m\u001b[0;34m:\u001b[0m\u001b[0;34m\u001b[0m\u001b[0m\n\u001b[1;32m    671\u001b[0m         \u001b[0mmn\u001b[0m \u001b[0;34m-=\u001b[0m \u001b[0;36m0.5\u001b[0m\u001b[0;34m\u001b[0m\u001b[0m\n",
      "\u001b[0;31mValueError\u001b[0m: range parameter must be finite."
     ]
    },
    {
     "data": {
      "image/png": "[encoded data removed]",
      "text/plain": [
       "<matplotlib.figure.Figure at 0x112a17950>"
      ]
     },
     "metadata": {},
     "output_type": "display_data"
    }
   ],
   "source": [
    "execfile (\"_CalcEvidence.py\")"
   ]
  },
  {
   "cell_type": "code",
   "execution_count": 8,
   "metadata": {
    "collapsed": false
   },
   "outputs": [
    {
     "name": "stdout",
     "output_type": "stream",
     "text": [
      "[  7.68702275e-29   1.74222680e-25   6.50096113e-26   4.00846299e-27\n",
      "   7.53989744e-27   1.20827294e-30   2.37000323e-28   1.10191646e-27\n",
      "   2.60390975e-26   1.02977057e-26]\n"
     ]
    }
   ],
   "source": [
    "print EvidenceVector"
   ]
  },
  {
   "cell_type": "code",
   "execution_count": 10,
   "metadata": {
    "collapsed": false
   },
   "outputs": [
    {
     "name": "stdout",
     "output_type": "stream",
     "text": [
      "-26.6414095015\n",
      "3.44125872023e-26\n"
     ]
    },
    {
     "data": {
      "image/png": "[encoded data removed]",
      "text/plain": [
       "<matplotlib.figure.Figure at 0x110845890>"
      ]
     },
     "metadata": {},
     "output_type": "display_data"
    }
   ],
   "source": [
    "execfile (\"_CalcEvidence.py\")"
   ]
  },
  {
   "cell_type": "code",
   "execution_count": 7,
   "metadata": {
    "collapsed": false
   },
   "outputs": [
    {
     "name": "stdout",
     "output_type": "stream",
     "text": [
      "-40.0062567343\n",
      "1.60083551651e-39\n"
     ]
    },
    {
     "data": {
      "image/png": "[encoded data removed]",
      "text/plain": [
       "<matplotlib.figure.Figure at 0x10ff873d0>"
      ]
     },
     "metadata": {},
     "output_type": "display_data"
    }
   ],
   "source": [
    "execfile (\"_CalcEvidence.py\")"
   ]
  },
  {
   "cell_type": "code",
   "execution_count": 8,
   "metadata": {
    "collapsed": false
   },
   "outputs": [
    {
     "name": "stdout",
     "output_type": "stream",
     "text": [
      "-39.9328732344\n",
      "2.57623356758e-39\n"
     ]
    },
    {
     "data": {
      "image/png": "[encoded data removed]",
      "text/plain": [
       "<matplotlib.figure.Figure at 0x11089f890>"
      ]
     },
     "metadata": {},
     "output_type": "display_data"
    }
   ],
   "source": [
    "execfile (\"_CalcEvidence.py\")"
   ]
  },
  {
   "cell_type": "code",
   "execution_count": 7,
   "metadata": {
    "collapsed": false
   },
   "outputs": [
    {
     "name": "stdout",
     "output_type": "stream",
     "text": [
      "-40.7589982474\n",
      "5.07877441395e-39\n"
     ]
    },
    {
     "data": {
      "image/png": "[encoded data removed]",
      "text/plain": [
       "<matplotlib.figure.Figure at 0x11099d190>"
      ]
     },
     "metadata": {},
     "output_type": "display_data"
    }
   ],
   "source": [
    "execfile (\"_CalcEvidence.py\")"
   ]
  },
  {
   "cell_type": "code",
   "execution_count": 7,
   "metadata": {
    "collapsed": false
   },
   "outputs": [
    {
     "name": "stdout",
     "output_type": "stream",
     "text": [
      "-inf\n",
      "3.00235364048e-175\n"
     ]
    },
    {
     "name": "stderr",
     "output_type": "stream",
     "text": [
      "/Users/LaurencePeanuts/miniconda2/lib/python2.7/site-packages/ipykernel/__main__.py:47: RuntimeWarning: divide by zero encountered in log10\n"
     ]
    },
    {
     "data": {
      "image/png": "[encoded data removed]",
      "text/plain": [
       "<matplotlib.figure.Figure at 0x11089f410>"
      ]
     },
     "metadata": {},
     "output_type": "display_data"
    }
   ],
   "source": [
    "execfile (\"_CalcEvidence.py\")"
   ]
  },
  {
   "cell_type": "code",
   "execution_count": 8,
   "metadata": {
    "collapsed": false
   },
   "outputs": [
    {
     "data": {
      "text/plain": [
       "3.8263812113081666"
      ]
     },
     "execution_count": 8,
     "metadata": {},
     "output_type": "execute_result"
    }
   ],
   "source": [
    "5.07877441395e-39/1.3273048694e-39"
   ]
  },
  {
   "cell_type": "code",
   "execution_count": null,
   "metadata": {
    "collapsed": true
   },
   "outputs": [],
   "source": [
    "np.save( \"/Users/LaurencePeanuts/Dropbox/KleineBar_KlaineTiger/MUSIC/2018/C_yy_lmax7.npy\", beatbox.You.C_yy)\n",
    "np.save( \"/Users/LaurencePeanuts/Dropbox/KleineBar_KlaineTiger/MUSIC/2018/R_lmax7_nmax15.npy\", beatbox.You.R_real)"
   ]
  },
  {
   "cell_type": "code",
   "execution_count": null,
   "metadata": {
    "collapsed": false
   },
   "outputs": [],
   "source": [
    "np.unique(beatbox.You.all_data_universes[0].kfilter)"
   ]
  },
  {
   "cell_type": "code",
   "execution_count": null,
   "metadata": {
    "collapsed": false
   },
   "outputs": [],
   "source": []
  },
  {
   "cell_type": "code",
   "execution_count": null,
   "metadata": {
    "collapsed": false
   },
   "outputs": [],
   "source": [
    "# Check calculated k covariance from samples, against prior covariance matrix\n",
    "numCp = np.zeros(len(beatbox.You.all_simulated_universes[0].fn))\n",
    "for j in range(len(beatbox.You.all_simulated_universes[0].fn)):\n",
    "    fns = [beatbox.You.all_simulated_universes[i].fn[j] for i in range(numreal)]\n",
    "    numCp[j] = np.std(fns) #1./(np.std(fns)**2)\n",
    "\n",
    "plt.plot(numCp)\n",
    "plt.plot(1/np.sqrt(np.diag(beatbox.You.inv_Cf)),'--')"
   ]
  },
  {
   "cell_type": "code",
   "execution_count": null,
   "metadata": {
    "collapsed": false
   },
   "outputs": [],
   "source": [
    "plt.plot(beatbox.You.all_simulated_universes[0].fn[ordered_inds_largenmax],' +')\n",
    "err_sig = np.sqrt(np.diag(beatbox.You.inv_A)[ordered_inds_smallnmax])\n",
    "eb2 = plt.errorbar(np.arange(0,len(beatbox.You.all_data_universes[0].fn)).reshape(-1,1) , beatbox.You.all_data_universes[0].fn[ordered_inds_smallnmax].reshape(-1,1) , yerr = err_sig.reshape(-1,1),ls=' ')\n",
    "plt.axis([1 ,34, -20, 20])"
   ]
  },
  {
   "cell_type": "code",
   "execution_count": null,
   "metadata": {
    "collapsed": false
   },
   "outputs": [],
   "source": [
    "# test that the noise covariance matrix is correct\n",
    "datamap = np.zeros((numreal,24))\n",
    "\n",
    "for i in range(numreal):\n",
    "    datamap[i,:] = beatbox.You.generate_one_realization_of_noise()\n",
    "\n"
   ]
  },
  {
   "cell_type": "code",
   "execution_count": null,
   "metadata": {
    "collapsed": false
   },
   "outputs": [],
   "source": [
    "datamap.shape"
   ]
  },
  {
   "cell_type": "code",
   "execution_count": null,
   "metadata": {
    "collapsed": false
   },
   "outputs": [],
   "source": [
    "plt.subplot(1,2,1)\n",
    "plt.imshow(np.cov(datamap.T))\n",
    "plt.colorbar()\n",
    "\n",
    "plt.subplot(1,2,2)\n",
    "plt.imshow(np.linalg.inv(beatbox.You.inv_Cyy))\n",
    "plt.colorbar()"
   ]
  },
  {
   "cell_type": "code",
   "execution_count": null,
   "metadata": {
    "collapsed": false
   },
   "outputs": [],
   "source": []
  },
  {
   "cell_type": "code",
   "execution_count": 13,
   "metadata": {
    "collapsed": false
   },
   "outputs": [
    {
     "name": "stdout",
     "output_type": "stream",
     "text": [
      "9.00714648877e-103\n"
     ]
    }
   ],
   "source": [
    "print 10**-102.045412774"
   ]
  },
  {
   "cell_type": "code",
   "execution_count": null,
   "metadata": {
    "collapsed": true
   },
   "outputs": [],
   "source": []
  }
 ],
 "metadata": {
  "kernelspec": {
   "display_name": "Python 2",
   "language": "python",
   "name": "python2"
  },
  "language_info": {
   "codemirror_mode": {
    "name": "ipython",
    "version": 2
   },
   "file_extension": ".py",
   "mimetype": "text/x-python",
   "name": "python",
   "nbconvert_exporter": "python",
   "pygments_lexer": "ipython2",
   "version": "2.7.11"
  }
 },
 "nbformat": 4,
 "nbformat_minor": 0
}
