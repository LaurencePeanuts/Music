{
 "cells": [
  {
   "cell_type": "code",
   "execution_count": 1,
   "metadata": {
    "collapsed": false
   },
   "outputs": [
    {
     "name": "stdout",
     "output_type": "stream",
     "text": [
      "1\n"
     ]
    }
   ],
   "source": [
    "%load_ext autoreload\n",
    "%autoreload 2\n",
    "%matplotlib inline\n",
    "\n",
    "execfile (\"_ImportScript.py\")"
   ]
  },
  {
   "cell_type": "code",
   "execution_count": 2,
   "metadata": {
    "collapsed": false
   },
   "outputs": [
    {
     "name": "stdout",
     "output_type": "stream",
     "text": [
      "Generated  14146  potential Fourier coefficients\n",
      " with phases uniformly distributed between 0 and  6.28318530718\n",
      "Built potential grid, with dimensions  (41, 41, 41)  and mean value  0.0 +/- 1.2819413\n"
     ]
    },
    {
     "name": "stderr",
     "output_type": "stream",
     "text": [
      "/Users/LaurencePeanuts/Documents/Travail/Stanford/Music/Music/beatbox/universe.py:580: RuntimeWarning: divide by zero encountered in power\n",
      "  self.Power_Spectrum = self.PSnorm*10000*np.power((self.k/self.kstar) ,(-3+(self.n_s-1)))\n"
     ]
    }
   ],
   "source": [
    "# Make a Universe with large n_max\n",
    "beatbox.You.initiate_simulated_universe( truncated_nmax=15, truncated_nmin=None, truncated_lmax=60, truncated_lmin=None, n_s=0.97,kstar=0.02,PSnorm=2.43e-9,Pdist=1,Pmax=2*np.pi,Pvar=0.0, fngrid=None, printout=1)"
   ]
  },
  {
   "cell_type": "code",
   "execution_count": null,
   "metadata": {
    "collapsed": false
   },
   "outputs": [],
   "source": [
    "beatbox.You.all_simulated_universes[0].show_CMB_T_map()"
   ]
  },
  {
   "cell_type": "code",
   "execution_count": null,
   "metadata": {
    "collapsed": false
   },
   "outputs": [],
   "source": []
  },
  {
   "cell_type": "code",
   "execution_count": null,
   "metadata": {
    "collapsed": false
   },
   "outputs": [],
   "source": []
  },
  {
   "cell_type": "code",
   "execution_count": null,
   "metadata": {
    "collapsed": false
   },
   "outputs": [],
   "source": []
  },
  {
   "cell_type": "code",
   "execution_count": null,
   "metadata": {
    "collapsed": false
   },
   "outputs": [],
   "source": [
    "this_file='RobustnessAnalysis/MockUniverse_nmax15_lmax60_noiseupto8/TrueUniverse'\n",
    "beatbox.You.all_simulated_universes[0].write_CMB_T_map(from_this=beatbox.You.all_simulated_universes[0].Tmap, to_this=this_file)"
   ]
  },
  {
   "cell_type": "code",
   "execution_count": null,
   "metadata": {
    "collapsed": true
   },
   "outputs": [],
   "source": [
    "# Calculate C_yy from the 100 posterior sample Commander Planck CMB temperature maps \n",
    "#    or load the C_yy matrix if already calculated\n",
    "if not os.path.isfile('../data/covCyy_lmax%d_lmin%d.txt' % (beatbox.Multiverse.truncated_lmax, beatbox.Multiverse.truncated_lmin)):\n",
    "    beatbox.You.read_Planck_samples()\n",
    "    beatbox.You.calculate_covariance_matrix(filename='lmax%d_lmin%d' % (beatbox.Multiverse.truncated_lmax, beatbox.Multiverse.truncated_lmin))\n",
    "else:\n",
    "    beatbox.You.load_covariance_matrix(filename='covCyy_lmax%d_lmin%d.txt' % (beatbox.Multiverse.truncated_lmax, beatbox.Multiverse.truncated_lmin))\n",
    "    \n",
    "# Calculate the inverse of the a_y covariance matrix\n",
    "beatbox.You.calculate_sdv_Cyy_inverse()"
   ]
  },
  {
   "cell_type": "code",
   "execution_count": null,
   "metadata": {
    "collapsed": false
   },
   "outputs": [],
   "source": [
    "numreal = 1000\n",
    "MockUniverse = np.array([])\n",
    "MockUniverse = np.append(MockUniverse, [beatbox.Universe() for i in range(numreal)])\n",
    "beatbox.You.all_simulated_universes[0].lms = [(l, m) for l in range(beatbox.You.all_simulated_universes[0].truncated_lmin,beatbox.You.all_simulated_universes[0].truncated_lmax+1) for m in range(-l, l+1)]\n",
    "MockUniverse[0].truncated_lmax = 60\n",
    "MockUniverse[0].truncated_nmax = 15\n",
    "MockUniverse[0].set_instance_k_filter(truncated_nmax=None,truncated_nmin=None)\n",
    "MockUniverse[0].populate_instance_response_matrix(truncated_nmax=None, truncated_nmin=None,truncated_lmax=None, truncated_lmin=None, usedefault=1)\n",
    "for i in range(numreal):\n",
    "    MockUniverse[i].truncated_lmax = MockUniverse[0].truncated_lmax\n",
    "    MockUniverse[i].truncated_nmax=MockUniverse[0].truncated_nmax\n",
    "    MockUniverse[i].R = MockUniverse[0].R \n",
    "    MockUniverse[i].kfilter = MockUniverse[0].kfilter\n",
    "    MockUniverse[i].lms = beatbox.You.all_simulated_universes[0].lms "
   ]
  },
  {
   "cell_type": "code",
   "execution_count": null,
   "metadata": {
    "collapsed": false,
    "scrolled": true
   },
   "outputs": [],
   "source": [
    "Noise = np.zeros(len(beatbox.You.all_simulated_universes[0].ay))\n",
    "ay_real = beatbox.You.all_simulated_universes[0].ay2ayreal_for_inference(beatbox.You.all_simulated_universes[0].ay)\n",
    "beatbox.You.all_simulated_universes[0].ay_real = ay_real\n",
    "for n in range(numreal):\n",
    "    Noise[:beatbox.You.C_yy.shape[0]] = beatbox.You.generate_one_realization_of_noise()\n",
    "    MockUniverse[n].ay_real = beatbox.You.all_simulated_universes[0].ay_real + Noise\n",
    "    MockUniverse[n].ayreal2ay_for_mapping(MockUniverse[n].ay_real)\n",
    "    MockUniverse[n].ay2alm(MockUniverse[n].ay, truncated_lmax=MockUniverse[n].truncated_lmax, truncated_lmin=MockUniverse[n].truncated_lmin, usedefault=0)\n",
    "    MockUniverse[n].Tmap = hp.alm2map(MockUniverse[n].alm, 256)\n",
    "    this_file='RobustnessAnalysis/MockUniverse_nmax15_lmax60_noiseupto8/MockUniverse_'+str(n)\n",
    "    MockUniverse[n].write_CMB_T_map(from_this=MockUniverse[n].Tmap, to_this=this_file)\n"
   ]
  },
  {
   "cell_type": "code",
   "execution_count": null,
   "metadata": {
    "collapsed": false
   },
   "outputs": [],
   "source": [
    "beatbox.You.create_original_Universe()\n",
    "beatbox.You.all_simulated_universes = np.append(beatbox.You.all_simulated_universes, beatbox.Universe())\n",
    "beatbox.You.all_simulated_universes[-1].fngrid= beatbox.You.all_simulated_universes[0].fngrid * beatbox.Universe.kfilter\n",
    "beatbox.You.all_simulated_universes[-1].transform_3D_potential_into_alm()\n",
    "beatbox.You.all_simulated_universes[-1].show_CMB_T_map()\n"
   ]
  },
  {
   "cell_type": "code",
   "execution_count": null,
   "metadata": {
    "collapsed": false
   },
   "outputs": [],
   "source": [
    "MOCK = 0\n",
    "numreal = 1000\n",
    "beatbox.You.create_original_Universe()\n",
    "\n",
    "beatbox.You.all_simulated_universes = np.append(beatbox.You.all_simulated_universes, beatbox.Universe())\n",
    "beatbox.You.all_simulated_universes[-1].fngrid= beatbox.You.all_simulated_universes[0].fngrid * beatbox.Universe.kfilter\n",
    "beatbox.You.all_simulated_universes[-1].transform_3D_potential_into_alm()\n",
    "beatbox.You.all_simulated_universes[0]=beatbox.Universe()\n",
    "beatbox.You.all_simulated_universes[0].generate_a_random_potential_field()\n",
    "\n",
    "# beatbox.You.all_simulated_universes = np.append(beatbox.You.all_simulated_universes, beatbox.Universe())\n",
    "# fromthis = 'RobustnessAnalysis/MockUniverse_nmax15_lmax60_noiseupto8/TrueUniverse.fits'\n",
    "# beatbox.You.all_simulated_universes[-1].read_in_CMB_T_map(from_this = fromthis)\n",
    "# beatbox.You.all_simulated_universes[-1].decompose_T_map_into_spherical_harmonics(lmax=60)\n",
    "# beatbox.You.all_simulated_universes[-1].alm2ay()\n",
    "# beatbox.You.all_simulated_universes[-1].ay2alm(beatbox.You.all_simulated_universes[-1].ay)\n",
    "\n",
    "beatbox.You.all_reconstructed_universes = np.append(beatbox.You.all_reconstructed_universes, [beatbox.Universe() for i in range(numreal)])\n",
    "MockUniverse = np.array([])\n",
    "MockUniverse = np.append(MockUniverse, [beatbox.Universe() for i in range(numreal)])\n",
    "pvals=np.array([])\n",
    "chi2vals=np.array([])\n",
    "\n",
    "#from astroML.plotting import setup_text_plots\n",
    "#setup_text_plots(fontsize=8, usetex=True)\n",
    "from matplotlib import cm\n",
    "cmap = cm.RdBu_r\n",
    "cmap.set_under('w')\n",
    "\n",
    "max=100\n",
    "\n",
    "# Calculate C_yy from the 100 posterior sample Commander Planck CMB temperature maps \n",
    "#    or load the C_yy matrix if already calculated\n",
    "if not os.path.isfile('../data/covCyy_lmax%d_lmin%d.txt' % (beatbox.Multiverse.truncated_lmax, beatbox.Multiverse.truncated_lmin)):\n",
    "    beatbox.You.read_Planck_samples()\n",
    "    beatbox.You.calculate_covariance_matrix(filename='lmax%d_lmin%d' % (beatbox.Multiverse.truncated_lmax, beatbox.Multiverse.truncated_lmin))\n",
    "else:\n",
    "    beatbox.You.load_covariance_matrix(filename='covCyy_lmax%d_lmin%d.txt' % (beatbox.Multiverse.truncated_lmax, beatbox.Multiverse.truncated_lmin))\n",
    "    \n",
    "# Calculate the inverse of the a_y covariance matrix\n",
    "beatbox.You.calculate_sdv_Cyy_inverse()\n",
    "\n",
    "\n"
   ]
  },
  {
   "cell_type": "code",
   "execution_count": null,
   "metadata": {
    "collapsed": false,
    "scrolled": true
   },
   "outputs": [],
   "source": [
    "\n",
    "for n in range(numreal):\n",
    "    fromthis = 'RobustnessAnalysis/MockUniverse_nmax15_lmax60_noiseupto8/MockUniverse_'+str(n)+'.fits'\n",
    "    \n",
    "    beatbox.You.all_data_universes = np.append(beatbox.You.all_data_universes, beatbox.Universe())\n",
    "    beatbox.You.all_data_universes[n].read_in_CMB_T_map(from_this = fromthis)\n",
    "    beatbox.You.all_data_universes[n].decompose_T_map_into_spherical_harmonics(lmax=60)\n",
    "    beatbox.You.all_data_universes[n].alm2ay()\n",
    "    beatbox.You.all_data_universes[n].ay2alm(beatbox.You.all_data_universes[n].ay)\n",
    "    datamap = beatbox.You.all_data_universes[n].ay2ayreal_for_inference(beatbox.You.all_data_universes[n].ay)\n",
    "    beatbox.You.all_data_universes[n].ay_real = datamap\n",
    "    beatbox.You.solve_for_3D_potential(datamap)\n",
    "    \n",
    "    #execfile ('_ReconstructionScript.py')\n",
    "    MockUniverse[n]=beatbox.You.all_data_universes[n]\n",
    "    beatbox.You.all_reconstructed_universes[n].fn = beatbox.You.reconstrunct_fn\n",
    "    beatbox.You.all_reconstructed_universes[n].transform_3D_potential_into_alm(usedefault=1, fn=1)\n",
    "    beatbox.You.all_reconstructed_universes[n].rearrange_fn_from_vector_to_grid()\n",
    "    #beatbox.You.all_reconstructed_universes[n].evaluate_potential_given_fourier_coefficients()\n",
    "    \n",
    "    p_value, chi2value = beatbox.You.calculate_chi2_in_posterior( beatbox.You.all_simulated_universes[-1].fn, beatbox.You.all_reconstructed_universes[n].fn)\n",
    "    pvals = np.append(pvals, p_value)\n",
    "    chi2vals = np.append(chi2vals, chi2value)"
   ]
  },
  {
   "cell_type": "code",
   "execution_count": null,
   "metadata": {
    "collapsed": false,
    "scrolled": true
   },
   "outputs": [],
   "source": []
  },
  {
   "cell_type": "code",
   "execution_count": null,
   "metadata": {
    "collapsed": false
   },
   "outputs": [],
   "source": []
  },
  {
   "cell_type": "code",
   "execution_count": null,
   "metadata": {
    "collapsed": false,
    "scrolled": true
   },
   "outputs": [],
   "source": [
    "#beatbox.You.all_simulated_universes = np.append(beatbox.You.all_simulated_universes, beatbox.Universe())\n",
    "#beatbox.You.all_simulated_universes[-1].fngrid= beatbox.You.all_simulated_universes[0].fngrid*beatbox.Universe.kfilter\n",
    "#beatbox.You.all_simulated_universes[-1].transform_3D_potential_into_alm()\n",
    "#fromthis = 'RobustnessAnalysis/MockUniverse_nmax15_lmax60_noiseupto8/TrueUniverse.fits'\n",
    "#beatbox.You.all_simulated_universes[-1].read_in_CMB_T_map(from_this = fromthis)\n",
    "#beatbox.You.all_simulated_universes[-1].decompose_T_map_into_spherical_harmonics(lmax=60)\n",
    "#beatbox.You.all_simulated_universes[-1].alm2ay()\n",
    "#beatbox.You.all_simulated_universes[-1].ay2alm(beatbox.You.all_simulated_universes[-1].ay)\n",
    "#beatbox.You.all_simulated_universes[-1].show_CMB_T_map()\n",
    "#execfile ('_SigmaDevPlot.py')\n",
    "#print sigmas_dev, probabilities2, pvals, chi2vals\n",
    "execfile('_CalcEvidence.py')\n"
   ]
  },
  {
   "cell_type": "code",
   "execution_count": null,
   "metadata": {
    "collapsed": false
   },
   "outputs": [],
   "source": [
    "execfile ('_FigofMerit.py')"
   ]
  },
  {
   "cell_type": "code",
   "execution_count": null,
   "metadata": {
    "collapsed": false
   },
   "outputs": [],
   "source": [
    "execfile ('_PlotMostProbVals.py')"
   ]
  },
  {
   "cell_type": "code",
   "execution_count": null,
   "metadata": {
    "collapsed": false
   },
   "outputs": [],
   "source": [
    "num = 3\n",
    "execfile ('_PlotMargPost.py')"
   ]
  },
  {
   "cell_type": "code",
   "execution_count": null,
   "metadata": {
    "collapsed": false
   },
   "outputs": [],
   "source": []
  },
  {
   "cell_type": "code",
   "execution_count": null,
   "metadata": {
    "collapsed": false
   },
   "outputs": [],
   "source": [
    "beatbox.You.all_reconstructed_universes[500].evaluate_potential_given_fourier_coefficients()\n",
    "beatbox.You.all_simulated_universes[-1].rearrange_fn_from_vector_to_grid()\n",
    "beatbox.You.all_simulated_universes[-1].evaluate_potential_given_fourier_coefficients()\n"
   ]
  },
  {
   "cell_type": "code",
   "execution_count": null,
   "metadata": {
    "collapsed": false
   },
   "outputs": [],
   "source": [
    "plt.imshow(beatbox.You.all_reconstructed_universes[500].phi[21,:,:])"
   ]
  },
  {
   "cell_type": "code",
   "execution_count": null,
   "metadata": {
    "collapsed": false
   },
   "outputs": [],
   "source": [
    "plt.imshow(beatbox.You.all_simulated_universes[-1].phi[21,:,:])"
   ]
  },
  {
   "cell_type": "code",
   "execution_count": null,
   "metadata": {
    "collapsed": false
   },
   "outputs": [],
   "source": []
  },
  {
   "cell_type": "code",
   "execution_count": null,
   "metadata": {
    "collapsed": false
   },
   "outputs": [],
   "source": []
  },
  {
   "cell_type": "code",
   "execution_count": null,
   "metadata": {
    "collapsed": false
   },
   "outputs": [],
   "source": [
    "a ,b = beatbox.You.calculate_chi2_in_posterior( beatbox.You.all_simulated_universes[-1].fn, beatbox.You.all_reconstructed_universes[-4].fn)\n",
    "print a,b\n",
    "\n",
    "\n"
   ]
  },
  {
   "cell_type": "code",
   "execution_count": null,
   "metadata": {
    "collapsed": false
   },
   "outputs": [],
   "source": [
    "chi2.cdf(428.9, 924) \n",
    "\n"
   ]
  },
  {
   "cell_type": "code",
   "execution_count": null,
   "metadata": {
    "collapsed": false
   },
   "outputs": [],
   "source": [
    "print np.dot(np.dot((beatbox.You.all_simulated_universes[2].fn - beatbox.You.all_reconstructed_universes[0].fn), beatbox.You.inv_A), (beatbox.You.all_simulated_universes[2].fn - beatbox.You.all_reconstructed_universes[0].fn).T)"
   ]
  },
  {
   "cell_type": "code",
   "execution_count": null,
   "metadata": {
    "collapsed": false
   },
   "outputs": [],
   "source": [
    "print 100*np.sqrt(np.mean(realbias**2/PS[:(len(beatbox.You.all_reconstructed_universes[-1].fn)/2)]) )\n",
    "print 100*np.sqrt(np.mean(imagbias**2/PS[(len(beatbox.You.all_reconstructed_universes[-1].fn)/2):]) )"
   ]
  },
  {
   "cell_type": "code",
   "execution_count": null,
   "metadata": {
    "collapsed": false
   },
   "outputs": [],
   "source": [
    "n, bins, patches = plt.hist(np.diag(beatbox.You.inv_A)[:(len(beatbox.You.all_reconstructed_universes[-1].fn)/2)], 40, normed=0, facecolor='green', alpha=0.75)\n",
    "\n",
    "n, bins, patches = plt.hist(np.diag(beatbox.You.inv_A)[(len(beatbox.You.all_reconstructed_universes[-1].fn)/2):], 40, normed=0, facecolor='yellow', alpha=0.75)\n",
    "\n",
    "plt.savefig('RobustnessAnalysis/rob_plt_lmax'+str(beatbox.Universe.truncated_lmax)+'_lmin'+str(beatbox.Universe.truncated_lmin)+'_nmax'+str(beatbox.Universe.truncated_nmax)+'_nmin'+str(beatbox.Universe.truncated_nmin)+'/A_histogram.png')\n",
    "\n",
    "#plt.axis([0, 52, 0, 0.2])\n",
    "\n",
    "\n",
    "\n",
    "plt.show()"
   ]
  },
  {
   "cell_type": "code",
   "execution_count": null,
   "metadata": {
    "collapsed": false
   },
   "outputs": [],
   "source": [
    "print 100.*np.mean(np.sqrt(np.diag(beatbox.You.inv_A)[:(len(beatbox.You.all_reconstructed_universes[-1].fn)/2)]/PS[:(len(beatbox.You.all_reconstructed_universes[-1].fn)/2)]))\n",
    "print 100.*np.mean(np.sqrt(np.diag(beatbox.You.inv_A)[(len(beatbox.You.all_reconstructed_universes[-1].fn)/2):]/PS[(len(beatbox.You.all_reconstructed_universes[-1].fn)/2):]))\n",
    "print 100.*np.mean(np.sqrt(np.diag(beatbox.You.inv_A)/PS))"
   ]
  },
  {
   "cell_type": "code",
   "execution_count": null,
   "metadata": {
    "collapsed": false
   },
   "outputs": [],
   "source": [
    "print 100.*np.mean(np.sqrt(realbias**2/np.diag(beatbox.You.inv_A)[:(len(beatbox.You.all_reconstructed_universes[-1].fn)/2)]))\n",
    "print 100.*np.mean(np.sqrt(imagbias**2/np.diag(beatbox.You.inv_A)[(len(beatbox.You.all_reconstructed_universes[-1].fn)/2):]))"
   ]
  },
  {
   "cell_type": "code",
   "execution_count": null,
   "metadata": {
    "collapsed": false
   },
   "outputs": [],
   "source": [
    "np.mean(np.sqrt((beatbox.You.all_reconstructed_universes[-1].fn - beatbox.You.all_simulated_universes[2].fn)**2/np.diag(beatbox.You.inv_A)))"
   ]
  },
  {
   "cell_type": "code",
   "execution_count": null,
   "metadata": {
    "collapsed": false
   },
   "outputs": [],
   "source": [
    "beatbox.You.C_yy.shape"
   ]
  },
  {
   "cell_type": "code",
   "execution_count": null,
   "metadata": {
    "collapsed": false
   },
   "outputs": [],
   "source": [
    "print np.mean(np.sqrt((beatbox.You.all_simulated_universes[-1].fn-beatbox.You.all_reconstructed_universes[-1].fn)**2/np.diag(beatbox.You.inv_A)))\n",
    "print np.mean(np.sqrt((beatbox.You.all_reconstructed_universes[-1].fn - beatbox.You.all_simulated_universes[-1].fn)**2/np.diag(beatbox.You.inv_A)))\n",
    "print len(np.where((beatbox.You.all_simulated_universes[-1].fn-beatbox.You.all_reconstructed_universes[500].fn)/np.sqrt(np.diag(beatbox.You.inv_A)) < 1.)[0])/float(len(beatbox.You.all_reconstructed_universes[-1].fn))    "
   ]
  },
  {
   "cell_type": "code",
   "execution_count": null,
   "metadata": {
    "collapsed": false
   },
   "outputs": [],
   "source": [
    "len(beatbox.You.all_reconstructed_universes[-1].fn)"
   ]
  },
  {
   "cell_type": "code",
   "execution_count": null,
   "metadata": {
    "collapsed": false,
    "scrolled": false
   },
   "outputs": [],
   "source": [
    "beatbox.You.all_data_universes[500].show_CMB_T_map()\n",
    "beatbox.You.all_simulated_universes[-1].show_CMB_T_map()\n",
    "beatbox.You.all_reconstructed_universes[500].show_CMB_T_map()\n",
    "beatbox.You.all_reconstructed_universes[-1].show_CMB_T_map()\n",
    "hp.mollview(beatbox.You.all_data_universes[500].Tmap-beatbox.You.all_reconstructed_universes[500].Tmap,  rot=(-90,0,0))\n",
    "hp.mollview(beatbox.You.all_simulated_universes[-1].Tmap-beatbox.You.all_reconstructed_universes[500].Tmap,  rot=(-90,0,0))"
   ]
  },
  {
   "cell_type": "code",
   "execution_count": null,
   "metadata": {
    "collapsed": false
   },
   "outputs": [],
   "source": [
    "beatbox.You.all_simulated_universes[0].lmax=60\n",
    "beatbox.You.all_simulated_universes[0].show_lowest_spherical_harmonics_of_CMB_T_map(lmax=8,max=100)\n",
    "hp.mollview(beatbox.You.all_simulated_universes[0].truncated_map-beatbox.You.all_simulated_universes[-1].Tmap, rot=(-90,0,0),  min=-100, max=100 )"
   ]
  }
 ],
 "metadata": {
  "kernelspec": {
   "display_name": "Python 2",
   "language": "python",
   "name": "python2"
  },
  "language_info": {
   "codemirror_mode": {
    "name": "ipython",
    "version": 2
   },
   "file_extension": ".py",
   "mimetype": "text/x-python",
   "name": "python",
   "nbconvert_exporter": "python",
   "pygments_lexer": "ipython2",
   "version": "2.7.11"
  }
 },
 "nbformat": 4,
 "nbformat_minor": 0
}
