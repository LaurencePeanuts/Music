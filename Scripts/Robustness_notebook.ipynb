{
 "cells": [
  {
   "cell_type": "code",
   "execution_count": 1,
   "metadata": {
    "collapsed": false
   },
   "outputs": [
    {
     "name": "stdout",
     "output_type": "stream",
     "text": [
      "1\n"
     ]
    }
   ],
   "source": [
    "%load_ext autoreload\n",
    "%autoreload 2\n",
    "%matplotlib inline\n",
    "\n",
    "execfile (\"_ImportScript.py\")"
   ]
  },
  {
   "cell_type": "code",
   "execution_count": 2,
   "metadata": {
    "collapsed": false,
    "scrolled": false
   },
   "outputs": [
    {
     "name": "stderr",
     "output_type": "stream",
     "text": [
      "/Users/LaurencePeanuts/Documents/Travail/Stanford/Music/Music/beatbox/universe.py:553: RuntimeWarning: divide by zero encountered in power\n",
      "  self.Power_Spectrum = self.PSnorm*10000*np.power((self.k/self.kstar) ,(-3+(self.n_s-1)))\n",
      "/Users/LaurencePeanuts/Documents/Travail/Stanford/Music/Music/beatbox/universe.py:390: ComplexWarning: Casting complex values to real discards the imaginary part\n",
      "  ay_real[zero_ind] = value[zero_ind].astype(np.float)\n",
      "/Users/LaurencePeanuts/Documents/Travail/Stanford/Music/Music/beatbox/multiverse.py:355: ComplexWarning: Casting complex values to real discards the imaginary part\n",
      "  R_real[zero_ind,:] = beatbox.Universe.R[zero_ind,:].astype(np.float)\n"
     ]
    }
   ],
   "source": [
    "execfile (\"_ExploreMocksOneNoiseRezEach.py\")"
   ]
  },
  {
   "cell_type": "code",
   "execution_count": null,
   "metadata": {
    "collapsed": false
   },
   "outputs": [],
   "source": [
    "print 0.999*np.mean(alphas), 1.001*np.mean(alphas), np.mean(alphas)*0.002/11\n",
    "print np.mean(alphas)\n",
    "print np.std(alphas)**2*0.9"
   ]
  },
  {
   "cell_type": "code",
   "execution_count": null,
   "metadata": {
    "collapsed": false
   },
   "outputs": [],
   "source": [
    "print 0.0257326356226**2\n",
    "print mu.reshape(-1)[max_ind]\n",
    "print (sigma.reshape(-1)[max_ind])\n",
    "print max_ind"
   ]
  },
  {
   "cell_type": "code",
   "execution_count": null,
   "metadata": {
    "collapsed": false
   },
   "outputs": [],
   "source": [
    "execfile (\"_Alpharobustness.py\")"
   ]
  },
  {
   "cell_type": "code",
   "execution_count": null,
   "metadata": {
    "collapsed": false,
    "scrolled": true
   },
   "outputs": [],
   "source": [
    "import matplotlib.pyplot as plt\n",
    "imgplot = plt.imshow(posterior)\n",
    "print np.sqrt(sigma.reshape(-1)[max_ind])"
   ]
  },
  {
   "cell_type": "code",
   "execution_count": null,
   "metadata": {
    "collapsed": false
   },
   "outputs": [],
   "source": [
    "n, bins, patches = plt.hist(alphas, 40, normed=1, facecolor='green', alpha=0.75)\n",
    "\n",
    "plt.rc('text', usetex=True)\n",
    "plt.rc('font', family='serif')\n",
    "# bug: the Tex interpretor doesn't work properly...\n",
    "plt.xlabel(r'$\\alpha$')\n",
    "plt.ylabel('Probability')\n",
    "plt.title(r'Histogram of $\\alpha$ values')\n",
    "x = np.linspace(0.9,1.1, 100)\n",
    "rv = norm()\n",
    "plt.plot(x, norm.pdf(x, loc=mu.reshape(-1)[max_ind], scale=np.sqrt(sigma.reshape(-1)[max_ind])), 'k-', lw=2, label='frozen pdf')\n",
    "\n",
    "\n",
    "#plt.axis([40, 160, 0, 0.03])\n",
    "plt.grid(True)\n",
    "\n",
    "\n",
    "plt.savefig('RobustnessAnalysis/alphahist_lmax'+str(beatbox.Universe.truncated_lmax)+'_nmin'+str(beatbox.Universe.truncated_lmin)+'_nmax'+str(beatbox.Universe.truncated_nmax)+'_nmin'+str(beatbox.Universe.truncated_nmin)+'_2.png')\n",
    "\n",
    "\n",
    "plt.show()"
   ]
  },
  {
   "cell_type": "code",
   "execution_count": null,
   "metadata": {
    "collapsed": false,
    "scrolled": true
   },
   "outputs": [],
   "source": [
    "for i in range(1000):\n",
    "    rec_fn=beatbox.You.all_reconstructed_universes[i].ay\n",
    "    np.savetxt( \"RobustnessAnalysis/1000realizations_nmax6_lmax8/rec_ay\"+str(i)+\".txt\", rec_fn)"
   ]
  },
  {
   "cell_type": "code",
   "execution_count": null,
   "metadata": {
    "collapsed": false
   },
   "outputs": [],
   "source": []
  },
  {
   "cell_type": "code",
   "execution_count": null,
   "metadata": {
    "collapsed": false
   },
   "outputs": [],
   "source": [
    "\n"
   ]
  },
  {
   "cell_type": "code",
   "execution_count": null,
   "metadata": {
    "collapsed": false
   },
   "outputs": [],
   "source": []
  },
  {
   "cell_type": "code",
   "execution_count": null,
   "metadata": {
    "collapsed": false
   },
   "outputs": [],
   "source": []
  },
  {
   "cell_type": "code",
   "execution_count": null,
   "metadata": {
    "collapsed": false
   },
   "outputs": [],
   "source": [
    "from scipy.stats import chi2\n",
    "print 1-chi2.cdf(1.14, 5) "
   ]
  },
  {
   "cell_type": "code",
   "execution_count": null,
   "metadata": {
    "collapsed": false
   },
   "outputs": [],
   "source": [
    "print len(beatbox.You.all_reconstructed_universes)\n",
    "print len(beatbox.You.all_simulated_universes)"
   ]
  },
  {
   "cell_type": "code",
   "execution_count": null,
   "metadata": {
    "collapsed": false
   },
   "outputs": [],
   "source": [
    "beatbox.You.solve_for_3D_potential(MockUniverse[-1].ay2ayreal_for_inference(MockUniverse[-1].ay))\n",
    "Delta_fn = beatbox.You.all_simulated_universes[-1].fn.reshape(64, 1)-beatbox.You.all_reconstructed_universes[-1].fn\n",
    "chi2value = np.dot (Delta_fn.T , np.dot( beatbox.You.inv_A, Delta_fn  ))\n",
    "p_value = 1-chi2.cdf(chi2value, len(beatbox.You.all_simulated_universes[0].fn)) \n",
    "print chi2.cdf(chi2value, len(beatbox.You.all_simulated_universes[0].fn))\n",
    "print p_value, chi2value"
   ]
  },
  {
   "cell_type": "code",
   "execution_count": null,
   "metadata": {
    "collapsed": false
   },
   "outputs": [],
   "source": [
    "pvals=np.array([])\n",
    "chi2vals=np.array([])\n",
    "for a in range(10000):\n",
    "    beatbox.You.solve_for_3D_potential(MockUniverse[a].ay2ayreal_for_inference(MockUniverse[a].ay))\n",
    "    Delta_fn = beatbox.You.all_simulated_universes[a].fn.reshape(64, 1)-beatbox.You.all_reconstructed_universes[a].fn\n",
    "    chi2value = np.dot (Delta_fn.T , np.dot( beatbox.You.inv_A, Delta_fn  ))\n",
    "    p_value = 1-chi2.cdf(chi2value, len(beatbox.You.all_simulated_universes[a].fn)) \n",
    "    pvals = np.append(pvals, p_value)\n",
    "    chi2vals = np.append(chi2vals, chi2value)"
   ]
  },
  {
   "cell_type": "code",
   "execution_count": null,
   "metadata": {
    "collapsed": false
   },
   "outputs": [],
   "source": [
    "import matplotlib.pyplot as plt\n",
    "n, bins, patches = plt.hist(pvals,bins=np.logspace(-0.05, 0.0, 100), facecolor='green', alpha=0.75)\n",
    "plt.gca().set_xscale(\"log\")\n",
    "#n, bins, patches = plt.hist(pvals,bins=np.linspace(0.9, 1.0, 100), facecolor='green', alpha=0.75)\n",
    "plt.rc('text', usetex=True)\n",
    "plt.rc('font', family='serif')\n",
    "\n",
    "plt.xlabel(r'p-values')\n",
    "plt.ylabel('Probability')\n",
    "plt.title(r'P-values for 10 000 mocks with $l_{max}=8$, $n_{max}=2$')\n",
    "plt.xlim(0.95,1)\n",
    "\n",
    "#x = np.linspace(norm.ppf(0.01, loc=1, scale=0.19), norm.ppf(0.99, loc=1,  scale=0.19), 100)\n",
    "#x=np.linspace(0,1.6, 100)\n",
    "#rv = norm()\n",
    "#plt.plot(x, norm.pdf(x, loc=1.02, scale=0.14), 'k-', lw=2, label='frozen pdf')\n",
    "\n",
    "\n",
    "#plt.axis([40, 160, 0, 0.03])\n",
    "plt.grid(True)\n",
    "\n",
    "plt.savefig('RobustnessAnalysis/pvalshist_lmax8_nmax2.png')\n",
    "\n",
    "plt.show()"
   ]
  },
  {
   "cell_type": "code",
   "execution_count": null,
   "metadata": {
    "collapsed": false
   },
   "outputs": [],
   "source": [
    "from scipy.stats import chi2\n"
   ]
  },
  {
   "cell_type": "code",
   "execution_count": null,
   "metadata": {
    "collapsed": false
   },
   "outputs": [],
   "source": [
    "print np.mean(pvals)"
   ]
  },
  {
   "cell_type": "code",
   "execution_count": null,
   "metadata": {
    "collapsed": false,
    "scrolled": false
   },
   "outputs": [],
   "source": [
    "from scipy.special import erfinv\n",
    "print erfinv(0.9999892)*np.sqrt(2)\n",
    "from scipy.special import erf\n",
    "print erf(4.*1./np.sqrt(2))\n",
    "print erfinv( 1-np.mean(pvals))*np.sqrt(2)\n",
    "print erf(np.sqrt(0.004/2))"
   ]
  },
  {
   "cell_type": "code",
   "execution_count": null,
   "metadata": {
    "collapsed": false
   },
   "outputs": [],
   "source": [
    "\n",
    "probabilities2=chi2.cdf(chi2vals, len(beatbox.You.all_simulated_universes[-1].fn)) \n",
    "sigmas_dev=erfinv(probabilities2)*np.sqrt(2)\n"
   ]
  },
  {
   "cell_type": "code",
   "execution_count": null,
   "metadata": {
    "collapsed": false,
    "scrolled": false
   },
   "outputs": [],
   "source": [
    "print sigmas_dev[:50]\n",
    "print (erfinv(pvals)*np.sqrt(2))[:50]\n",
    "print chi2vals[:50]\n",
    "#print pvals[:300]"
   ]
  },
  {
   "cell_type": "code",
   "execution_count": null,
   "metadata": {
    "collapsed": false,
    "scrolled": false
   },
   "outputs": [],
   "source": [
    "import matplotlib.pyplot as plt\n",
    "n, bins, patches = plt.hist(sigmas_dev,bins=np.logspace(-16, 1, 100), facecolor='green', alpha=0.75)\n",
    "plt.gca().set_xscale(\"log\")\n",
    "#n, bins, patches = plt.hist(pvals,bins=np.linspace(0.9, 1.0, 100), facecolor='green', alpha=0.75)\n",
    "plt.rc('text', usetex=True)\n",
    "plt.rc('font', family='serif')\n",
    "\n",
    "plt.xlabel(r'$\\sigma$')\n",
    "plt.ylabel('Probability')\n",
    "plt.title(r'$\\sigma$ for 1000 mocks with $l_{max}=8$, $n_{max}=2$')\n",
    "#plt.xlim(0.95,1)\n",
    "\n",
    "#x = np.linspace(norm.ppf(0.01, loc=1, scale=0.19), norm.ppf(0.99, loc=1,  scale=0.19), 100)\n",
    "#x=np.linspace(0,1.6, 100)\n",
    "#rv = norm()\n",
    "#plt.plot(x, norm.pdf(x, loc=1.02, scale=0.14), 'k-', lw=2, label='frozen pdf')\n",
    "\n",
    "\n",
    "#plt.axis([40, 160, 0, 0.03])\n",
    "plt.grid(True)\n",
    "\n",
    "plt.axvline(np.mean(sigmas_dev))\n",
    "\n",
    "plt.show()"
   ]
  },
  {
   "cell_type": "code",
   "execution_count": null,
   "metadata": {
    "collapsed": false,
    "scrolled": true
   },
   "outputs": [],
   "source": [
    "\n",
    "U, s, V_star = np.linalg.svd(beatbox.You.A)\n",
    "inv_A = np.dot(V_star.T, np.dot(np.diag(1./s),U.T))\n",
    "print 1./s\n",
    "print inv_A\n",
    "print beatbox.You.all_reconstructed_universes[-1].fn\n",
    "print beatbox.You.all_reconstructed_universes[-1].fn.reshape(len(beatbox.You.all_reconstructed_universes[-1].fn),1)-beatbox.You.all_simulated_universes[-1].fn.reshape(len(beatbox.You.all_reconstructed_universes[-1].fn),1)"
   ]
  },
  {
   "cell_type": "code",
   "execution_count": null,
   "metadata": {
    "collapsed": false
   },
   "outputs": [],
   "source": [
    "beatbox.You.all_reconstructed_universes[0].rearrange_fn_from_vector_to_grid()\n",
    "beatbox.You.all_reconstructed_universes[0].evaluate_potential_given_fourier_coefficients()"
   ]
  },
  {
   "cell_type": "code",
   "execution_count": null,
   "metadata": {
    "collapsed": false
   },
   "outputs": [],
   "source": [
    "import matplotlib.pyplot as plt\n",
    "imgplot = plt.imshow(beatbox.You.all_simulated_universes[0].phi[:,:,20])"
   ]
  },
  {
   "cell_type": "code",
   "execution_count": null,
   "metadata": {
    "collapsed": false
   },
   "outputs": [],
   "source": [
    "plt.imshow(beatbox.You.all_reconstructed_universes[0].phi[:,:,20])"
   ]
  },
  {
   "cell_type": "code",
   "execution_count": null,
   "metadata": {
    "collapsed": false
   },
   "outputs": [],
   "source": [
    "100*0.1"
   ]
  },
  {
   "cell_type": "code",
   "execution_count": null,
   "metadata": {
    "collapsed": true
   },
   "outputs": [],
   "source": []
  },
  {
   "cell_type": "code",
   "execution_count": null,
   "metadata": {
    "collapsed": false
   },
   "outputs": [],
   "source": [
    "Universe.high_k_cutoff = Universe.truncated_nmax*Universe.Deltak\n",
    "Universe.low_k_cutoff = Universe.truncated_nmin*Universe.Deltak\n",
    "    \n",
    "    # Define the filter\n",
    "low_k_filter = (~(Universe.n < Universe.truncated_nmin)).astype(int)\n",
    "high_k_filter = (~(Universe.n > Universe.truncated_nmax)).astype(int)\n",
    "Universe.kfilter = high_k_filter*low_k_filter"
   ]
  },
  {
   "cell_type": "code",
   "execution_count": null,
   "metadata": {
    "collapsed": false
   },
   "outputs": [],
   "source": [
    "from scipy.special import sph_harm,sph_jn\n",
    "truncated_nmax = Universe.truncated_nmax\n",
    "truncated_nmin = Universe.truncated_nmin\n",
    "truncated_lmax = Universe.truncated_lmax\n",
    "truncated_lmin = Universe.truncated_lmin\n",
    "lms = Universe.lms\n",
    "kfilter = Universe.kfilter\n",
    "    \n",
    "    # Initialize R matrix:\n",
    "NY = (truncated_lmax + 1)**2 - (truncated_lmin)**2\n",
    "    # Find the indices of the non-zero elements of the filter\n",
    "ind = np.where(Universe.kfilter>0)\n",
    "# The n index spans 2x that length, 1st half for the cos coefficients, 2nd half\n",
    "    #    for the sin coefficients\n",
    "NN = 2*len(ind[1])\n",
    "Universe.R = np.zeros([NY,NN], dtype=np.complex128)\n",
    "\n",
    "k, theta, phi = Universe.k[ind], np.arctan2(Universe.ky[ind],Universe.kx[ind]), np.arccos(Universe.kz[ind]/Universe.k[ind])\n",
    "    # We need to fix the 'nan' theta element that came from having ky=0\n",
    "theta[np.isnan(theta)] = np.pi/2.0\n",
    "    \n",
    "    # Get ready to loop over y\n",
    "y = 0\n",
    "A = [sph_jn(truncated_lmax,ki)[0] for ki in k]        \n",
    "    # Loop over y, computing elements of R_yn \n",
    "for i in lms:        \n",
    "    l = i[0]\n",
    "    m = i[1]\n",
    "        \n",
    "    trigpart = np.cos(np.pi*l/2.0)\n",
    "    B = np.asarray([A[ki][l] for ki in range(len(k))])\n",
    "    Universe.R[y,:NN/2] = 4.0 * np.pi * sph_harm(m,l,theta,phi).reshape(NN/2)*B.reshape(NN/2) * trigpart\n",
    "    trigpart = np.sin(np.pi*l/2.0)\n",
    "    Universe.R[y,NN/2:] = 4.0 * np.pi * sph_harm(m,l,theta,phi).reshape(NN/2)*B.reshape(NN/2)* trigpart\n",
    "                \n",
    "    y = y+1  "
   ]
  },
  {
   "cell_type": "code",
   "execution_count": null,
   "metadata": {
    "collapsed": false
   },
   "outputs": [],
   "source": [
    "-8400.+(1.4-12.2)*110."
   ]
  },
  {
   "cell_type": "code",
   "execution_count": null,
   "metadata": {
    "collapsed": false
   },
   "outputs": [],
   "source": [
    "(67-39)*.26"
   ]
  },
  {
   "cell_type": "code",
   "execution_count": null,
   "metadata": {
    "collapsed": false
   },
   "outputs": [],
   "source": [
    "num=5\n",
    "postn=np.zeros(1000)\n",
    "for i in range(1000):\n",
    "    postn[i] = beatbox.You.all_simulated_universes[-1-i].fn[num] \n",
    "    \n",
    "n, bins, patches = plt.hist(postn, 20, normed=1, facecolor='green', alpha=0.75)\n",
    "\n",
    "plt.xlabel('Smarts')\n",
    "#plt.ylabel('Probability')\n",
    "#plt.title(r'$\\mathrm{Histogram\\ of\\ IQ:}\\ \\mu=100,\\ \\sigma=15$')\n",
    "#plt.axis([40, 160, 0, 0.03])\n",
    "plt.grid(True)\n",
    "\n",
    "plt.axvline(beatbox.You.all_simulated_universes[0].fn[num])\n",
    "\n",
    "#plt.axvline(We.fn[5])\n",
    "\n",
    "plt.show()"
   ]
  },
  {
   "cell_type": "code",
   "execution_count": null,
   "metadata": {
    "collapsed": true
   },
   "outputs": [],
   "source": [
    "82075\n",
    "5sec exposure\n",
    "offsets:\n",
    "+1.4 RA -2.6DEC"
   ]
  },
  {
   "cell_type": "markdown",
   "metadata": {},
   "source": [
    "focus -9425 seeing 1.4 20:25"
   ]
  }
 ],
 "metadata": {
  "kernelspec": {
   "display_name": "Python 2",
   "language": "python",
   "name": "python2"
  },
  "language_info": {
   "codemirror_mode": {
    "name": "ipython",
    "version": 2
   },
   "file_extension": ".py",
   "mimetype": "text/x-python",
   "name": "python",
   "nbconvert_exporter": "python",
   "pygments_lexer": "ipython2",
   "version": "2.7.11"
  }
 },
 "nbformat": 4,
 "nbformat_minor": 0
}
