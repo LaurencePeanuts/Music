{
 "cells": [
  {
   "cell_type": "code",
   "execution_count": 1,
   "metadata": {
    "collapsed": false
   },
   "outputs": [
    {
     "name": "stdout",
     "output_type": "stream",
     "text": [
      "1\n"
     ]
    }
   ],
   "source": [
    "%load_ext autoreload\n",
    "#%autoreload 2\n",
    "%matplotlib inline\n",
    "\n",
    "execfile (\"_ImportScript.py\")"
   ]
  },
  {
   "cell_type": "raw",
   "metadata": {},
   "source": [
    "import time"
   ]
  },
  {
   "cell_type": "code",
   "execution_count": 2,
   "metadata": {
    "collapsed": false
   },
   "outputs": [],
   "source": [
    "beatbox.You.create_original_Universe()\n",
    "#beatbox.You.initiate_simulated_universe(truncated_nmax=20)"
   ]
  },
  {
   "cell_type": "code",
   "execution_count": null,
   "metadata": {
    "collapsed": false
   },
   "outputs": [],
   "source": [
    "\n",
    "\n",
    "beatbox.You.initiate_simulated_universe()"
   ]
  },
  {
   "cell_type": "code",
   "execution_count": null,
   "metadata": {
    "collapsed": false
   },
   "outputs": [],
   "source": [
    "beatbox.You.create_original_Universe()\n",
    "\n",
    "if not os.path.isfile('../data/covCyy_lmax%d_lmin%d.txt' % (beatbox.Multiverse.truncated_lmax, beatbox.Multiverse.truncated_lmin)):\n",
    "    beatbox.You.read_Planck_samples()\n",
    "    beatbox.You.calculate_covariance_matrix(filename='lmax%d_lmin%d' % (beatbox.Multiverse.truncated_lmax, beatbox.Multiverse.truncated_lmin))\n",
    "else:\n",
    "    beatbox.You.load_covariance_matrix(filename='covCyy_lmax%d_lmin%d.txt' % (beatbox.Multiverse.truncated_lmax, beatbox.Multiverse.truncated_lmin))\n",
    "    \n",
    "# Calculate the inverse of the a_y covariance matrix\n",
    "beatbox.You.calculate_sdv_Cyy_inverse()\n",
    "\n",
    "datamap = beatbox.You.all_simulated_universes[0].ay2ayreal_for_inference(beatbox.You.all_simulated_universes[0].ay)+beatbox.You.generate_one_realization_of_noise()\n",
    "beatbox.You.all_simulated_universes[-1].ay_real = datamap\n",
    " \n",
    "\n",
    "MOCK = 1\n",
    "\n",
    "\n",
    "\n",
    "#execfile (\"_ReconstructionScript.py\")"
   ]
  },
  {
   "cell_type": "code",
   "execution_count": null,
   "metadata": {
    "collapsed": false
   },
   "outputs": [],
   "source": [
    "beatbox.You.solve_for_3D_potential(datamap.T , A=None, print_alpha=0)"
   ]
  },
  {
   "cell_type": "code",
   "execution_count": null,
   "metadata": {
    "collapsed": true
   },
   "outputs": [],
   "source": [
    "# np.savetxt( \"/Users/LaurencePeanuts/Dropbox/KleineBar_KlaineTiger/MUSIC/2018/Acov_inv.txt\", beatbox.You.inv_A)\n",
    "# np.savetxt( \"/Users/LaurencePeanuts/Dropbox/KleineBar_KlaineTiger/MUSIC/2018/Yash1.txt\", beatbox.You.Yash1)\n",
    "# np.savetxt( \"/Users/LaurencePeanuts/Dropbox/KleineBar_KlaineTiger/MUSIC/2018/Yash2.txt\", beatbox.You.Yash2)"
   ]
  },
  {
   "cell_type": "code",
   "execution_count": null,
   "metadata": {
    "collapsed": false
   },
   "outputs": [],
   "source": [
    "We = beatbox.Universe()\n",
    "We.fn = beatbox.You.reconstrunct_fn\n",
    "#We.fn = beatbox.You.all_simulated_universes[-1].fn * 0.5\n",
    "We.transform_3D_potential_into_alm(usedefault=1, fn=1)\n",
    "We.show_CMB_T_map(title = \"Best Fit Model\", from_perspective_of=\"observer\", max=100)\n",
    "We.rearrange_fn_from_vector_to_grid()\n",
    "We.evaluate_potential_given_fourier_coefficients()"
   ]
  },
  {
   "cell_type": "code",
   "execution_count": null,
   "metadata": {
    "collapsed": false
   },
   "outputs": [],
   "source": [
    "beatbox.You.all_simulated_universes[0].show_CMB_T_map()"
   ]
  },
  {
   "cell_type": "code",
   "execution_count": null,
   "metadata": {
    "collapsed": true
   },
   "outputs": [],
   "source": [
    "import matplotlib.pyplot as plt"
   ]
  },
  {
   "cell_type": "code",
   "execution_count": null,
   "metadata": {
    "collapsed": true
   },
   "outputs": [],
   "source": [
    "beatbox.You.inv_A = beatbox.You.calculate_pure_A_inverse()"
   ]
  },
  {
   "cell_type": "code",
   "execution_count": null,
   "metadata": {
    "collapsed": false
   },
   "outputs": [],
   "source": [
    "# beatbox.You.load_A_matrix('nmax14', inv = 'y')\n",
    "plt.plot(We.fn[:len(We.fn)], '*')\n",
    "plt.errorbar(range(len(We.fn)), We.fn, yerr = np.sqrt(np.diag(beatbox.You.inv_A)))\n",
    "plt.plot(beatbox.You.all_simulated_universes[0].fn,  'x')\n",
    "#plt.axis([4500, 4550, -10, 10])"
   ]
  },
  {
   "cell_type": "code",
   "execution_count": null,
   "metadata": {
    "collapsed": false
   },
   "outputs": [],
   "source": [
    "frac = np.abs(np.divide((We.fn - beatbox.You.all_simulated_universes[0].fn),  np.sqrt(np.diag(beatbox.You.inv_A))))\n",
    "print frac\n"
   ]
  },
  {
   "cell_type": "code",
   "execution_count": null,
   "metadata": {
    "collapsed": false
   },
   "outputs": [],
   "source": [
    "print np.double(np.sum(frac<=1))/np.double(len(frac))"
   ]
  },
  {
   "cell_type": "code",
   "execution_count": 3,
   "metadata": {
    "collapsed": false
   },
   "outputs": [
    {
     "name": "stdout",
     "output_type": "stream",
     "text": [
      "Generated  32  potential Fourier coefficients\n",
      " with phases uniformly distributed between 0 and  3.14159265359\n",
      "Built potential grid, with dimensions  (41, 41, 41)  and mean value  0.0 +/- 0.2109968\n",
      "Generated  32  potential Fourier coefficients\n",
      " with phases uniformly distributed between 0 and  3.14159265359\n",
      "Built potential grid, with dimensions  (41, 41, 41)  and mean value  0.0 +/- 0.1812713\n",
      "Generated  32  potential Fourier coefficients\n",
      " with phases uniformly distributed between 0 and  3.14159265359\n",
      "Built potential grid, with dimensions  (41, 41, 41)  and mean value  0.0 +/- 0.1242768\n",
      "Generated  32  potential Fourier coefficients\n",
      " with phases uniformly distributed between 0 and  3.14159265359\n",
      "Built potential grid, with dimensions  (41, 41, 41)  and mean value  -0.0 +/- 0.2260654\n",
      "Generated  32  potential Fourier coefficients\n",
      " with phases uniformly distributed between 0 and  3.14159265359\n",
      "Built potential grid, with dimensions  (41, 41, 41)  and mean value  -0.0 +/- 0.2237124\n",
      "Generated  32  potential Fourier coefficients\n",
      " with phases uniformly distributed between 0 and  3.14159265359\n",
      "Built potential grid, with dimensions  (41, 41, 41)  and mean value  -0.0 +/- 0.1808631\n",
      "Generated  32  potential Fourier coefficients\n",
      " with phases uniformly distributed between 0 and  3.14159265359\n",
      "Built potential grid, with dimensions  (41, 41, 41)  and mean value  -0.0 +/- 0.2646251\n",
      "Generated  32  potential Fourier coefficients\n",
      " with phases uniformly distributed between 0 and  3.14159265359\n",
      "Built potential grid, with dimensions  (41, 41, 41)  and mean value  0.0 +/- 0.1771589\n",
      "Generated  32  potential Fourier coefficients\n",
      " with phases uniformly distributed between 0 and  3.14159265359\n",
      "Built potential grid, with dimensions  (41, 41, 41)  and mean value  0.0 +/- 0.1654271\n",
      "Generated  32  potential Fourier coefficients\n",
      " with phases uniformly distributed between 0 and  3.14159265359\n",
      "Built potential grid, with dimensions  (41, 41, 41)  and mean value  -0.0 +/- 0.1746117\n",
      "Generated  32  potential Fourier coefficients\n",
      " with phases uniformly distributed between 0 and  3.14159265359\n",
      "Built potential grid, with dimensions  (41, 41, 41)  and mean value  0.0 +/- 0.2753519\n",
      "Generated  32  potential Fourier coefficients\n",
      " with phases uniformly distributed between 0 and  3.14159265359\n",
      "Built potential grid, with dimensions  (41, 41, 41)  and mean value  -0.0 +/- 0.1864222\n",
      "Generated  32  potential Fourier coefficients\n",
      " with phases uniformly distributed between 0 and  3.14159265359\n",
      "Built potential grid, with dimensions  (41, 41, 41)  and mean value  -0.0 +/- 0.2689342\n",
      "Generated  32  potential Fourier coefficients\n",
      " with phases uniformly distributed between 0 and  3.14159265359\n",
      "Built potential grid, with dimensions  (41, 41, 41)  and mean value  -0.0 +/- 0.2170734\n",
      "Generated  32  potential Fourier coefficients\n",
      " with phases uniformly distributed between 0 and  3.14159265359\n",
      "Built potential grid, with dimensions  (41, 41, 41)  and mean value  0.0 +/- 0.2375024\n",
      "Generated  32  potential Fourier coefficients\n",
      " with phases uniformly distributed between 0 and  3.14159265359\n",
      "Built potential grid, with dimensions  (41, 41, 41)  and mean value  -0.0 +/- 0.265209\n",
      "Generated  32  potential Fourier coefficients\n",
      " with phases uniformly distributed between 0 and  3.14159265359\n",
      "Built potential grid, with dimensions  (41, 41, 41)  and mean value  0.0 +/- 0.1857024\n",
      "Generated  32  potential Fourier coefficients\n",
      " with phases uniformly distributed between 0 and  3.14159265359\n",
      "Built potential grid, with dimensions  (41, 41, 41)  and mean value  -0.0 +/- 0.2341494\n",
      "Generated  32  potential Fourier coefficients\n",
      " with phases uniformly distributed between 0 and  3.14159265359\n",
      "Built potential grid, with dimensions  (41, 41, 41)  and mean value  -0.0 +/- 0.2768923\n",
      "Generated  32  potential Fourier coefficients\n",
      " with phases uniformly distributed between 0 and  3.14159265359\n",
      "Built potential grid, with dimensions  (41, 41, 41)  and mean value  0.0 +/- 0.1559137\n",
      "Generated  32  potential Fourier coefficients\n",
      " with phases uniformly distributed between 0 and  3.14159265359\n",
      "Built potential grid, with dimensions  (41, 41, 41)  and mean value  -0.0 +/- 0.2225148\n",
      "Generated  32  potential Fourier coefficients\n",
      " with phases uniformly distributed between 0 and  3.14159265359\n",
      "Built potential grid, with dimensions  (41, 41, 41)  and mean value  0.0 +/- 0.2081567\n",
      "Generated  32  potential Fourier coefficients\n",
      " with phases uniformly distributed between 0 and  3.14159265359\n",
      "Built potential grid, with dimensions  (41, 41, 41)  and mean value  0.0 +/- 0.2555575\n",
      "Generated  32  potential Fourier coefficients\n",
      " with phases uniformly distributed between 0 and  3.14159265359\n",
      "Built potential grid, with dimensions  (41, 41, 41)  and mean value  -0.0 +/- 0.1373065\n",
      "Generated  32  potential Fourier coefficients\n",
      " with phases uniformly distributed between 0 and  3.14159265359\n",
      "Built potential grid, with dimensions  (41, 41, 41)  and mean value  0.0 +/- 0.218952\n",
      "Generated  32  potential Fourier coefficients\n",
      " with phases uniformly distributed between 0 and  3.14159265359\n",
      "Built potential grid, with dimensions  (41, 41, 41)  and mean value  -0.0 +/- 0.257825\n",
      "Generated  32  potential Fourier coefficients\n",
      " with phases uniformly distributed between 0 and  3.14159265359\n",
      "Built potential grid, with dimensions  (41, 41, 41)  and mean value  -0.0 +/- 0.1259165\n",
      "Generated  32  potential Fourier coefficients\n",
      " with phases uniformly distributed between 0 and  3.14159265359\n",
      "Built potential grid, with dimensions  (41, 41, 41)  and mean value  -0.0 +/- 0.229078\n",
      "Generated  32  potential Fourier coefficients\n",
      " with phases uniformly distributed between 0 and  3.14159265359\n",
      "Built potential grid, with dimensions  (41, 41, 41)  and mean value  -0.0 +/- 0.1696582\n",
      "Generated  32  potential Fourier coefficients\n",
      " with phases uniformly distributed between 0 and  3.14159265359\n",
      "Built potential grid, with dimensions  (41, 41, 41)  and mean value  -0.0 +/- 0.2120602\n",
      "Generated  32  potential Fourier coefficients\n",
      " with phases uniformly distributed between 0 and  3.14159265359\n",
      "Built potential grid, with dimensions  (41, 41, 41)  and mean value  0.0 +/- 0.2532164\n",
      "Generated  32  potential Fourier coefficients\n",
      " with phases uniformly distributed between 0 and  3.14159265359\n",
      "Built potential grid, with dimensions  (41, 41, 41)  and mean value  -0.0 +/- 0.2216147\n",
      "Generated  32  potential Fourier coefficients\n",
      " with phases uniformly distributed between 0 and  3.14159265359\n",
      "Built potential grid, with dimensions  (41, 41, 41)  and mean value  0.0 +/- 0.2833823\n",
      "Generated  32  potential Fourier coefficients\n",
      " with phases uniformly distributed between 0 and  3.14159265359\n",
      "Built potential grid, with dimensions  (41, 41, 41)  and mean value  -0.0 +/- 0.2412783\n",
      "Generated  32  potential Fourier coefficients\n",
      " with phases uniformly distributed between 0 and  3.14159265359\n",
      "Built potential grid, with dimensions  (41, 41, 41)  and mean value  0.0 +/- 0.23342\n",
      "Generated  32  potential Fourier coefficients\n",
      " with phases uniformly distributed between 0 and  3.14159265359\n",
      "Built potential grid, with dimensions  (41, 41, 41)  and mean value  0.0 +/- 0.2213061\n",
      "Generated  32  potential Fourier coefficients\n",
      " with phases uniformly distributed between 0 and  3.14159265359\n",
      "Built potential grid, with dimensions  (41, 41, 41)  and mean value  0.0 +/- 0.2402803\n",
      "Generated  32  potential Fourier coefficients\n",
      " with phases uniformly distributed between 0 and  3.14159265359\n",
      "Built potential grid, with dimensions  (41, 41, 41)  and mean value  0.0 +/- 0.1970687\n",
      "Generated  32  potential Fourier coefficients\n",
      " with phases uniformly distributed between 0 and  3.14159265359\n",
      "Built potential grid, with dimensions  (41, 41, 41)  and mean value  -0.0 +/- 0.2248981\n",
      "Generated  32  potential Fourier coefficients\n",
      " with phases uniformly distributed between 0 and  3.14159265359\n",
      "Built potential grid, with dimensions  (41, 41, 41)  and mean value  0.0 +/- 0.2098702\n",
      "Generated  32  potential Fourier coefficients\n",
      " with phases uniformly distributed between 0 and  3.14159265359\n",
      "Built potential grid, with dimensions  (41, 41, 41)  and mean value  0.0 +/- 0.2011866\n",
      "Generated  32  potential Fourier coefficients\n",
      " with phases uniformly distributed between 0 and  3.14159265359\n",
      "Built potential grid, with dimensions  (41, 41, 41)  and mean value  0.0 +/- 0.1652491\n",
      "Generated  32  potential Fourier coefficients\n",
      " with phases uniformly distributed between 0 and  3.14159265359\n",
      "Built potential grid, with dimensions  (41, 41, 41)  and mean value  -0.0 +/- 0.270565\n",
      "Generated  32  potential Fourier coefficients\n",
      " with phases uniformly distributed between 0 and  3.14159265359\n",
      "Built potential grid, with dimensions  (41, 41, 41)  and mean value  0.0 +/- 0.2919819\n",
      "Generated  32  potential Fourier coefficients\n",
      " with phases uniformly distributed between 0 and  3.14159265359\n",
      "Built potential grid, with dimensions  (41, 41, 41)  and mean value  0.0 +/- 0.2410525\n",
      "Generated  32  potential Fourier coefficients\n",
      " with phases uniformly distributed between 0 and  3.14159265359\n",
      "Built potential grid, with dimensions  (41, 41, 41)  and mean value  -0.0 +/- 0.2815768\n",
      "Generated  32  potential Fourier coefficients\n",
      " with phases uniformly distributed between 0 and  3.14159265359\n",
      "Built potential grid, with dimensions  (41, 41, 41)  and mean value  -0.0 +/- 0.1773638\n",
      "Generated  32  potential Fourier coefficients\n",
      " with phases uniformly distributed between 0 and  3.14159265359\n",
      "Built potential grid, with dimensions  (41, 41, 41)  and mean value  0.0 +/- 0.2629614\n",
      "Generated  32  potential Fourier coefficients\n",
      " with phases uniformly distributed between 0 and  3.14159265359\n",
      "Built potential grid, with dimensions  (41, 41, 41)  and mean value  0.0 +/- 0.2235733\n",
      "Generated  32  potential Fourier coefficients\n",
      " with phases uniformly distributed between 0 and  3.14159265359\n",
      "Built potential grid, with dimensions  (41, 41, 41)  and mean value  -0.0 +/- 0.2557297\n",
      "Generated  32  potential Fourier coefficients\n",
      " with phases uniformly distributed between 0 and  3.14159265359\n",
      "Built potential grid, with dimensions  (41, 41, 41)  and mean value  -0.0 +/- 0.2331542\n",
      "Generated  32  potential Fourier coefficients\n",
      " with phases uniformly distributed between 0 and  3.14159265359\n",
      "Built potential grid, with dimensions  (41, 41, 41)  and mean value  0.0 +/- 0.2754605\n",
      "Generated  32  potential Fourier coefficients\n",
      " with phases uniformly distributed between 0 and  3.14159265359\n",
      "Built potential grid, with dimensions  (41, 41, 41)  and mean value  0.0 +/- 0.2782359\n",
      "Generated  32  potential Fourier coefficients\n",
      " with phases uniformly distributed between 0 and  3.14159265359\n",
      "Built potential grid, with dimensions  (41, 41, 41)  and mean value  0.0 +/- 0.1757916\n",
      "Generated  32  potential Fourier coefficients\n",
      " with phases uniformly distributed between 0 and  3.14159265359\n",
      "Built potential grid, with dimensions  (41, 41, 41)  and mean value  0.0 +/- 0.2396469\n",
      "Generated  32  potential Fourier coefficients\n",
      " with phases uniformly distributed between 0 and  3.14159265359\n",
      "Built potential grid, with dimensions  (41, 41, 41)  and mean value  0.0 +/- 0.251454\n",
      "Generated  32  potential Fourier coefficients\n",
      " with phases uniformly distributed between 0 and  3.14159265359\n",
      "Built potential grid, with dimensions  (41, 41, 41)  and mean value  0.0 +/- 0.2687128\n",
      "Generated  32  potential Fourier coefficients\n",
      " with phases uniformly distributed between 0 and  3.14159265359\n",
      "Built potential grid, with dimensions  (41, 41, 41)  and mean value  -0.0 +/- 0.2936153\n",
      "Generated  32  potential Fourier coefficients\n",
      " with phases uniformly distributed between 0 and  3.14159265359\n",
      "Built potential grid, with dimensions  (41, 41, 41)  and mean value  0.0 +/- 0.1457249\n",
      "Generated  32  potential Fourier coefficients\n",
      " with phases uniformly distributed between 0 and  3.14159265359\n",
      "Built potential grid, with dimensions  (41, 41, 41)  and mean value  0.0 +/- 0.2564234\n",
      "Generated  32  potential Fourier coefficients\n",
      " with phases uniformly distributed between 0 and  3.14159265359\n",
      "Built potential grid, with dimensions  (41, 41, 41)  and mean value  0.0 +/- 0.2308184\n",
      "Generated  32  potential Fourier coefficients\n",
      " with phases uniformly distributed between 0 and  3.14159265359\n",
      "Built potential grid, with dimensions  (41, 41, 41)  and mean value  -0.0 +/- 0.1982528\n",
      "Generated  32  potential Fourier coefficients\n",
      " with phases uniformly distributed between 0 and  3.14159265359\n",
      "Built potential grid, with dimensions  (41, 41, 41)  and mean value  -0.0 +/- 0.1817759\n",
      "Generated  32  potential Fourier coefficients\n",
      " with phases uniformly distributed between 0 and  3.14159265359\n",
      "Built potential grid, with dimensions  (41, 41, 41)  and mean value  0.0 +/- 0.2762434\n",
      "Generated  32  potential Fourier coefficients\n",
      " with phases uniformly distributed between 0 and  3.14159265359\n",
      "Built potential grid, with dimensions  (41, 41, 41)  and mean value  -0.0 +/- 0.31333\n",
      "Generated  32  potential Fourier coefficients\n",
      " with phases uniformly distributed between 0 and  3.14159265359\n",
      "Built potential grid, with dimensions  (41, 41, 41)  and mean value  -0.0 +/- 0.2099275\n",
      "Generated  32  potential Fourier coefficients\n",
      " with phases uniformly distributed between 0 and  3.14159265359\n",
      "Built potential grid, with dimensions  (41, 41, 41)  and mean value  -0.0 +/- 0.2554648\n",
      "Generated  32  potential Fourier coefficients\n",
      " with phases uniformly distributed between 0 and  3.14159265359\n",
      "Built potential grid, with dimensions  (41, 41, 41)  and mean value  0.0 +/- 0.2311022\n",
      "Generated  32  potential Fourier coefficients\n",
      " with phases uniformly distributed between 0 and  3.14159265359\n",
      "Built potential grid, with dimensions  (41, 41, 41)  and mean value  -0.0 +/- 0.1995738\n",
      "Generated  32  potential Fourier coefficients\n",
      " with phases uniformly distributed between 0 and  3.14159265359\n",
      "Built potential grid, with dimensions  (41, 41, 41)  and mean value  -0.0 +/- 0.1855281\n",
      "Generated  32  potential Fourier coefficients\n",
      " with phases uniformly distributed between 0 and  3.14159265359\n",
      "Built potential grid, with dimensions  (41, 41, 41)  and mean value  -0.0 +/- 0.2540434\n",
      "Generated  32  potential Fourier coefficients\n",
      " with phases uniformly distributed between 0 and  3.14159265359\n",
      "Built potential grid, with dimensions  (41, 41, 41)  and mean value  0.0 +/- 0.2540371\n",
      "Generated  32  potential Fourier coefficients\n",
      " with phases uniformly distributed between 0 and  3.14159265359\n",
      "Built potential grid, with dimensions  (41, 41, 41)  and mean value  -0.0 +/- 0.2758697\n",
      "Generated  32  potential Fourier coefficients\n",
      " with phases uniformly distributed between 0 and  3.14159265359\n",
      "Built potential grid, with dimensions  (41, 41, 41)  and mean value  0.0 +/- 0.2060476\n",
      "Generated  32  potential Fourier coefficients\n",
      " with phases uniformly distributed between 0 and  3.14159265359\n",
      "Built potential grid, with dimensions  (41, 41, 41)  and mean value  -0.0 +/- 0.2306215\n",
      "Generated  32  potential Fourier coefficients\n",
      " with phases uniformly distributed between 0 and  3.14159265359\n",
      "Built potential grid, with dimensions  (41, 41, 41)  and mean value  0.0 +/- 0.216148\n",
      "Generated  32  potential Fourier coefficients\n",
      " with phases uniformly distributed between 0 and  3.14159265359\n",
      "Built potential grid, with dimensions  (41, 41, 41)  and mean value  0.0 +/- 0.3190452\n",
      "Generated  32  potential Fourier coefficients\n",
      " with phases uniformly distributed between 0 and  3.14159265359\n",
      "Built potential grid, with dimensions  (41, 41, 41)  and mean value  0.0 +/- 0.1667311\n",
      "Generated  32  potential Fourier coefficients\n",
      " with phases uniformly distributed between 0 and  3.14159265359\n",
      "Built potential grid, with dimensions  (41, 41, 41)  and mean value  -0.0 +/- 0.2578948\n",
      "Generated  32  potential Fourier coefficients\n",
      " with phases uniformly distributed between 0 and  3.14159265359\n",
      "Built potential grid, with dimensions  (41, 41, 41)  and mean value  0.0 +/- 0.2327219\n",
      "Generated  32  potential Fourier coefficients\n",
      " with phases uniformly distributed between 0 and  3.14159265359\n",
      "Built potential grid, with dimensions  (41, 41, 41)  and mean value  0.0 +/- 0.1883821\n",
      "Generated  32  potential Fourier coefficients\n",
      " with phases uniformly distributed between 0 and  3.14159265359\n",
      "Built potential grid, with dimensions  (41, 41, 41)  and mean value  0.0 +/- 0.203952\n",
      "Generated  32  potential Fourier coefficients\n",
      " with phases uniformly distributed between 0 and  3.14159265359\n",
      "Built potential grid, with dimensions  (41, 41, 41)  and mean value  -0.0 +/- 0.2062073\n",
      "Generated  32  potential Fourier coefficients\n",
      " with phases uniformly distributed between 0 and  3.14159265359\n",
      "Built potential grid, with dimensions  (41, 41, 41)  and mean value  0.0 +/- 0.3020815\n",
      "Generated  32  potential Fourier coefficients\n",
      " with phases uniformly distributed between 0 and  3.14159265359\n",
      "Built potential grid, with dimensions  (41, 41, 41)  and mean value  -0.0 +/- 0.2424129\n",
      "Generated  32  potential Fourier coefficients\n",
      " with phases uniformly distributed between 0 and  3.14159265359\n",
      "Built potential grid, with dimensions  (41, 41, 41)  and mean value  0.0 +/- 0.2120371\n",
      "Generated  32  potential Fourier coefficients\n",
      " with phases uniformly distributed between 0 and  3.14159265359\n",
      "Built potential grid, with dimensions  (41, 41, 41)  and mean value  -0.0 +/- 0.2367212\n",
      "Generated  32  potential Fourier coefficients\n",
      " with phases uniformly distributed between 0 and  3.14159265359\n",
      "Built potential grid, with dimensions  (41, 41, 41)  and mean value  0.0 +/- 0.2805912\n",
      "Generated  32  potential Fourier coefficients\n",
      " with phases uniformly distributed between 0 and  3.14159265359\n",
      "Built potential grid, with dimensions  (41, 41, 41)  and mean value  0.0 +/- 0.2216801\n",
      "Generated  32  potential Fourier coefficients\n",
      " with phases uniformly distributed between 0 and  3.14159265359\n",
      "Built potential grid, with dimensions  (41, 41, 41)  and mean value  0.0 +/- 0.1840906\n",
      "Generated  32  potential Fourier coefficients\n",
      " with phases uniformly distributed between 0 and  3.14159265359\n",
      "Built potential grid, with dimensions  (41, 41, 41)  and mean value  -0.0 +/- 0.2339378\n",
      "Generated  32  potential Fourier coefficients\n",
      " with phases uniformly distributed between 0 and  3.14159265359\n",
      "Built potential grid, with dimensions  (41, 41, 41)  and mean value  -0.0 +/- 0.2564349\n",
      "Generated  32  potential Fourier coefficients\n",
      " with phases uniformly distributed between 0 and  3.14159265359\n",
      "Built potential grid, with dimensions  (41, 41, 41)  and mean value  0.0 +/- 0.2107395\n",
      "Generated  32  potential Fourier coefficients\n",
      " with phases uniformly distributed between 0 and  3.14159265359\n",
      "Built potential grid, with dimensions  (41, 41, 41)  and mean value  -0.0 +/- 0.2044906\n",
      "Generated  32  potential Fourier coefficients\n",
      " with phases uniformly distributed between 0 and  3.14159265359\n",
      "Built potential grid, with dimensions  (41, 41, 41)  and mean value  -0.0 +/- 0.2242495\n",
      "Generated  32  potential Fourier coefficients\n",
      " with phases uniformly distributed between 0 and  3.14159265359\n",
      "Built potential grid, with dimensions  (41, 41, 41)  and mean value  0.0 +/- 0.2009603\n",
      "Generated  32  potential Fourier coefficients\n",
      " with phases uniformly distributed between 0 and  3.14159265359\n",
      "Built potential grid, with dimensions  (41, 41, 41)  and mean value  -0.0 +/- 0.1826951\n",
      "Generated  32  potential Fourier coefficients\n",
      " with phases uniformly distributed between 0 and  3.14159265359\n",
      "Built potential grid, with dimensions  (41, 41, 41)  and mean value  0.0 +/- 0.1779943\n",
      "Generated  32  potential Fourier coefficients\n",
      " with phases uniformly distributed between 0 and  3.14159265359\n",
      "Built potential grid, with dimensions  (41, 41, 41)  and mean value  0.0 +/- 0.2296186\n",
      "Generated  32  potential Fourier coefficients\n",
      " with phases uniformly distributed between 0 and  3.14159265359\n",
      "Built potential grid, with dimensions  (41, 41, 41)  and mean value  0.0 +/- 0.225177\n"
     ]
    },
    {
     "name": "stderr",
     "output_type": "stream",
     "text": [
      "/Users/LaurencePeanuts/Documents/Travail/Stanford/Music/Music/beatbox/universe.py:580: RuntimeWarning: divide by zero encountered in power\n",
      "  self.Power_Spectrum = self.PSnorm*10000*np.power((self.k/self.kstar) ,(-3+(self.n_s-1)))\n"
     ]
    }
   ],
   "source": [
    "numreal = 100\n",
    "\n",
    "for i in range(numreal):\n",
    "    beatbox.You.initiate_simulated_universe()\n"
   ]
  },
  {
   "cell_type": "code",
   "execution_count": 4,
   "metadata": {
    "collapsed": false
   },
   "outputs": [],
   "source": [
    "numCp = np.zeros(len(beatbox.You.all_simulated_universes[0].fn))\n",
    "\n",
    "\n",
    "for j in range(len(beatbox.You.all_simulated_universes[0].fn)):\n",
    "    fns = [beatbox.You.all_simulated_universes[i].fn[j] for i in range(numreal)]\n",
    "    numCp[j] = 1./(np.std(fns)**2)"
   ]
  },
  {
   "cell_type": "code",
   "execution_count": null,
   "metadata": {
    "collapsed": false
   },
   "outputs": [],
   "source": [
    "print np.mean(numCp)"
   ]
  },
  {
   "cell_type": "code",
   "execution_count": null,
   "metadata": {
    "collapsed": false
   },
   "outputs": [],
   "source": [
    "beatbox.You.solve_for_3D_potential(datamap.T , A=None, print_alpha=0)"
   ]
  },
  {
   "cell_type": "code",
   "execution_count": null,
   "metadata": {
    "collapsed": false
   },
   "outputs": [],
   "source": [
    "plt.plot( np.divide(numCp , np.diag(beatbox.You.inv_Cf) ))"
   ]
  },
  {
   "cell_type": "code",
   "execution_count": 9,
   "metadata": {
    "collapsed": false
   },
   "outputs": [
    {
     "name": "stdout",
     "output_type": "stream",
     "text": [
      "(array([18, 19, 19, 19, 19, 19, 19, 19, 19, 19, 20, 20, 20, 20, 20, 20, 20,\n",
      "       20, 20, 20, 20, 20, 21, 21, 21, 21, 21, 21, 21, 21, 21, 22]), array([20, 19, 19, 19, 20, 20, 20, 21, 21, 21, 18, 19, 19, 19, 20, 20, 20,\n",
      "       20, 21, 21, 21, 22, 19, 19, 19, 20, 20, 20, 21, 21, 21, 20]), array([20, 19, 20, 21, 19, 20, 21, 19, 20, 21, 20, 19, 20, 21, 18, 19, 21,\n",
      "       22, 19, 20, 21, 20, 19, 20, 21, 19, 20, 21, 19, 20, 21, 20]))\n"
     ]
    }
   ],
   "source": [
    "ind = np.where(beatbox.Universe.kfilter>0)\n",
    "\n",
    "print ind[]"
   ]
  },
  {
   "cell_type": "code",
   "execution_count": null,
   "metadata": {
    "collapsed": true
   },
   "outputs": [],
   "source": [
    "ind = np.where(Beatbox.Universe.kfilter>0)\n",
    "\n",
    "for j in range(len(ind)):\n",
    "    fns = [beatbox.You.all_simulated_universes[i].fn_Norm[j] for i in range(numreal)]\n",
    "    numCp[j] = 1./(np.std(fns)**2)"
   ]
  }
 ],
 "metadata": {
  "kernelspec": {
   "display_name": "Python 2",
   "language": "python",
   "name": "python2"
  },
  "language_info": {
   "codemirror_mode": {
    "name": "ipython",
    "version": 2
   },
   "file_extension": ".py",
   "mimetype": "text/x-python",
   "name": "python",
   "nbconvert_exporter": "python",
   "pygments_lexer": "ipython2",
   "version": "2.7.11"
  }
 },
 "nbformat": 4,
 "nbformat_minor": 0
}
