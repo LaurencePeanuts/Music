{
 "cells": [
  {
   "cell_type": "code",
   "execution_count": 1,
   "metadata": {
    "collapsed": false
   },
   "outputs": [
    {
     "name": "stdout",
     "output_type": "stream",
     "text": [
      "1\n"
     ]
    }
   ],
   "source": [
    "%load_ext autoreload\n",
    "#%autoreload 2\n",
    "%matplotlib inline\n",
    "\n",
    "execfile (\"_ImportScript.py\")"
   ]
  },
  {
   "cell_type": "raw",
   "metadata": {},
   "source": []
  },
  {
   "cell_type": "code",
   "execution_count": 2,
   "metadata": {
    "collapsed": true
   },
   "outputs": [],
   "source": [
    "import time\n",
    "import matplotlib.pyplot as plt"
   ]
  },
  {
   "cell_type": "code",
   "execution_count": 3,
   "metadata": {
    "collapsed": false
   },
   "outputs": [],
   "source": [
    "beatbox.You.create_original_Universe()\n",
    "#beatbox.You.initiate_simulated_universe(truncated_nmax=20)"
   ]
  },
  {
   "cell_type": "code",
   "execution_count": null,
   "metadata": {
    "collapsed": false
   },
   "outputs": [],
   "source": [
    "beatbox.You.initiate_simulated_universe(truncated_nmax=15)"
   ]
  },
  {
   "cell_type": "code",
   "execution_count": null,
   "metadata": {
    "collapsed": false
   },
   "outputs": [],
   "source": [
    "beatbox.You.all_simulated_universes[0].show_CMB_T_map()"
   ]
  },
  {
   "cell_type": "code",
   "execution_count": null,
   "metadata": {
    "collapsed": false
   },
   "outputs": [],
   "source": [
    "if not os.path.isfile('../data/covCyy_lmax%d_lmin%d.txt' % (beatbox.Multiverse.truncated_lmax, beatbox.Multiverse.truncated_lmin)):\n",
    "    beatbox.You.read_Planck_samples()\n",
    "    beatbox.You.calculate_covariance_matrix(filename='lmax%d_lmin%d' % (beatbox.Multiverse.truncated_lmax, beatbox.Multiverse.truncated_lmin))\n",
    "else:\n",
    "    beatbox.You.load_covariance_matrix(filename='covCyy_lmax%d_lmin%d.txt' % (beatbox.Multiverse.truncated_lmax, beatbox.Multiverse.truncated_lmin))\n",
    "    \n",
    "# Calculate the inverse of the a_y covariance matrix\n",
    "beatbox.You.calculate_sdv_Cyy_inverse()\n",
    "\n",
    "datamap = beatbox.You.all_simulated_universes[0].ay2ayreal_for_inference(beatbox.You.all_simulated_universes[0].ay)+beatbox.You.generate_one_realization_of_noise()\n",
    " \n",
    "\n",
    "MOCK = 1\n",
    "\n",
    "\n",
    "\n",
    "#execfile (\"_ReconstructionScript.py\")"
   ]
  },
  {
   "cell_type": "code",
   "execution_count": null,
   "metadata": {
    "collapsed": false
   },
   "outputs": [],
   "source": [
    "beatbox.You.solve_for_3D_potential(datamap.T , A=None, print_alpha=0)"
   ]
  },
  {
   "cell_type": "code",
   "execution_count": null,
   "metadata": {
    "collapsed": true
   },
   "outputs": [],
   "source": [
    "# np.savetxt( \"/Users/LaurencePeanuts/Dropbox/KleineBar_KlaineTiger/MUSIC/2018/Acov_inv.txt\", beatbox.You.inv_A)\n",
    "# np.savetxt( \"/Users/LaurencePeanuts/Dropbox/KleineBar_KlaineTiger/MUSIC/2018/Yash1.txt\", beatbox.You.Yash1)\n",
    "# np.savetxt( \"/Users/LaurencePeanuts/Dropbox/KleineBar_KlaineTiger/MUSIC/2018/Yash2.txt\", beatbox.You.Yash2)"
   ]
  },
  {
   "cell_type": "code",
   "execution_count": null,
   "metadata": {
    "collapsed": false
   },
   "outputs": [],
   "source": [
    "We = beatbox.Universe()\n",
    "We.fn = beatbox.You.reconstrunct_fn\n",
    "#We.fn = beatbox.You.all_simulated_universes[-1].fn * 0.5\n",
    "We.transform_3D_potential_into_alm(usedefault=1, fn=1)\n",
    "We.show_CMB_T_map(title = \"Best Fit Model\", from_perspective_of=\"observer\", max=100)\n",
    "We.rearrange_fn_from_vector_to_grid()\n",
    "We.evaluate_potential_given_fourier_coefficients()"
   ]
  },
  {
   "cell_type": "code",
   "execution_count": null,
   "metadata": {
    "collapsed": false
   },
   "outputs": [],
   "source": [
    "beatbox.You.all_simulated_universes[0].show_CMB_T_map()"
   ]
  },
  {
   "cell_type": "code",
   "execution_count": null,
   "metadata": {
    "collapsed": true
   },
   "outputs": [],
   "source": []
  },
  {
   "cell_type": "code",
   "execution_count": null,
   "metadata": {
    "collapsed": true
   },
   "outputs": [],
   "source": [
    "beatbox.You.inv_A = beatbox.You.calculate_pure_A_inverse()"
   ]
  },
  {
   "cell_type": "code",
   "execution_count": null,
   "metadata": {
    "collapsed": false
   },
   "outputs": [],
   "source": [
    "# beatbox.You.load_A_matrix('nmax14', inv = 'y')\n",
    "plt.plot(We.fn[:len(We.fn)], '*')\n",
    "plt.errorbar(range(len(We.fn)), We.fn, yerr = np.sqrt(np.diag(beatbox.You.inv_A)))\n",
    "plt.plot(beatbox.You.all_simulated_universes[0].fn,  'x')\n",
    "plt.axis([0, 1418, -10, 10])"
   ]
  },
  {
   "cell_type": "code",
   "execution_count": null,
   "metadata": {
    "collapsed": false
   },
   "outputs": [],
   "source": [
    "frac = np.abs(np.divide((We.fn - beatbox.You.all_simulated_universes[0].fn),  np.sqrt(np.diag(beatbox.You.inv_A))))\n",
    "print frac\n"
   ]
  },
  {
   "cell_type": "code",
   "execution_count": null,
   "metadata": {
    "collapsed": false
   },
   "outputs": [],
   "source": [
    "print np.double(np.sum(frac<=1))/np.double(len(frac))"
   ]
  },
  {
   "cell_type": "code",
   "execution_count": null,
   "metadata": {
    "collapsed": false
   },
   "outputs": [],
   "source": [
    "numreal = 100\n",
    "\n",
    "for i in range(numreal):\n",
    "    beatbox.You.initiate_simulated_universe()\n"
   ]
  },
  {
   "cell_type": "code",
   "execution_count": null,
   "metadata": {
    "collapsed": false
   },
   "outputs": [],
   "source": [
    "numCp = np.zeros(len(beatbox.You.all_simulated_universes[0].fn))\n",
    "\n",
    "\n",
    "for j in range(len(beatbox.You.all_simulated_universes[0].fn)):\n",
    "    fns = [beatbox.You.all_simulated_universes[i].fn[j] for i in range(numreal)]\n",
    "    numCp[j] = 1./(np.std(fns)**2)"
   ]
  },
  {
   "cell_type": "code",
   "execution_count": null,
   "metadata": {
    "collapsed": false
   },
   "outputs": [],
   "source": [
    "print np.mean(numCp)"
   ]
  },
  {
   "cell_type": "code",
   "execution_count": null,
   "metadata": {
    "collapsed": false
   },
   "outputs": [],
   "source": [
    "beatbox.You.solve_for_3D_potential(datamap.T , A=None, print_alpha=0)"
   ]
  },
  {
   "cell_type": "code",
   "execution_count": null,
   "metadata": {
    "collapsed": false
   },
   "outputs": [],
   "source": [
    "plt.plot( np.divide(numCp , np.diag(beatbox.You.inv_Cf) ))"
   ]
  },
  {
   "cell_type": "code",
   "execution_count": null,
   "metadata": {
    "collapsed": false
   },
   "outputs": [],
   "source": [
    "ind = np.where(beatbox.Universe.kfilter>0)\n",
    "\n",
    "print ind[]"
   ]
  },
  {
   "cell_type": "code",
   "execution_count": null,
   "metadata": {
    "collapsed": false
   },
   "outputs": [],
   "source": [
    "# Check calculated k covariance from samples, against prior covariance matrix\n",
    "numCp = np.zeros(len(beatbox.You.all_simulated_universes[0].fn))\n",
    "for j in range(len(beatbox.You.all_simulated_universes[0].fn)):\n",
    "    fns = [beatbox.You.all_simulated_universes[i].fn[j] for i in range(numreal)]\n",
    "    numCp[j] = np.std(fns) #1./(np.std(fns)**2)\n",
    "\n",
    "plt.plot(numCp)\n",
    "plt.plot(1/np.sqrt(np.diag(beatbox.You.inv_Cf)),'--')"
   ]
  },
  {
   "cell_type": "code",
   "execution_count": null,
   "metadata": {
    "collapsed": false
   },
   "outputs": [],
   "source": [
    "#Calculate coverage prob for 1sig\n",
    "numreal = 100\n",
    "cov_frac = np.zeros((numreal,1))\n",
    "\n",
    "for i in range(numreal):\n",
    "    print i\n",
    "    beatbox.You.initiate_simulated_universe()\n",
    "    datamap = beatbox.You.all_simulated_universes[i].ay2ayreal_for_inference(beatbox.You.all_simulated_universes[i].ay)+beatbox.You.generate_one_realization_of_noise()\n",
    "    beatbox.You.solve_for_3D_potential(datamap.T , A=1, print_alpha=0)\n",
    "    \n",
    "    We=beatbox.Universe()        \n",
    "    beatbox.You.all_data_universes = np.append(beatbox.You.all_data_universes,We)\n",
    "    beatbox.You.all_data_universes[i].fn = beatbox.You.reconstrunct_fn\n",
    "    \n",
    "    abs_diff = np.abs(beatbox.You.all_data_universes[i].fn.reshape(-1,1) - beatbox.You.all_simulated_universes[i].fn.reshape(-1,1))\n",
    "    err_sig = np.sqrt(np.diag(beatbox.You.inv_A))\n",
    "    diff_sigma = np.divide(abs_diff , err_sig ).reshape(-1,1)\n",
    "    cov_frac[i,0] = np.double(np.sum(diff_sigma<=1)) / np.double(len(diff_sigma))\n",
    "print diff_sigma"
   ]
  },
  {
   "cell_type": "code",
   "execution_count": null,
   "metadata": {
    "collapsed": false
   },
   "outputs": [],
   "source": [
    "print np.mean(cov_frac)"
   ]
  },
  {
   "cell_type": "code",
   "execution_count": null,
   "metadata": {
    "collapsed": true
   },
   "outputs": [],
   "source": []
  }
 ],
 "metadata": {
  "kernelspec": {
   "display_name": "Python 2",
   "language": "python",
   "name": "python2"
  },
  "language_info": {
   "codemirror_mode": {
    "name": "ipython",
    "version": 2
   },
   "file_extension": ".py",
   "mimetype": "text/x-python",
   "name": "python",
   "nbconvert_exporter": "python",
   "pygments_lexer": "ipython2",
   "version": "2.7.11"
  }
 },
 "nbformat": 4,
 "nbformat_minor": 0
}
